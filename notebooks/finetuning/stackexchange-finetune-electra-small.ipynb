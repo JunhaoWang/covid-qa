{
 "cells": [
  {
   "cell_type": "code",
   "execution_count": 1,
   "metadata": {},
   "outputs": [
    {
     "name": "stdout",
     "output_type": "stream",
     "text": [
      "Name: transformers\r\n",
      "Version: 2.8.0\r\n",
      "Summary: State-of-the-art Natural Language Processing for TensorFlow 2.0 and PyTorch\r\n",
      "Home-page: https://github.com/huggingface/transformers\r\n",
      "Author: Thomas Wolf, Lysandre Debut, Victor Sanh, Julien Chaumond, Sam Shleifer, Google AI Language Team Authors, Open AI team Authors, Facebook AI Authors, Carnegie Mellon University Authors\r\n",
      "Author-email: thomas@huggingface.co\r\n",
      "License: Apache\r\n",
      "Location: /opt/conda/lib/python3.6/site-packages\r\n",
      "Requires: numpy, dataclasses, sentencepiece, boto3, tokenizers, filelock, requests, sacremoses, regex, tqdm\r\n",
      "Required-by: \r\n"
     ]
    }
   ],
   "source": [
    "# Update to transformers 2.8.0\n",
    "!pip install -q transformers --upgrade\n",
    "!pip show transformers"
   ]
  },
  {
   "cell_type": "code",
   "execution_count": 2,
   "metadata": {
    "_cell_guid": "b1076dfc-b9ad-4769-8c92-a6c4dae69d19",
    "_uuid": "8f2839f25d086af736a60e9eeb907d3b93b6e0e5"
   },
   "outputs": [],
   "source": [
    "import os\n",
    "import pickle\n",
    "\n",
    "import numpy as np\n",
    "import pandas as pd\n",
    "import tensorflow as tf\n",
    "import tensorflow.keras.layers as L\n",
    "from tensorflow.keras.optimizers import Adam\n",
    "from tensorflow.keras.models import Model\n",
    "from tensorflow.keras.callbacks import ModelCheckpoint\n",
    "from sklearn.model_selection import train_test_split\n",
    "from sklearn.metrics import classification_report, average_precision_score, roc_auc_score\n",
    "import matplotlib.pyplot as plt\n",
    "import transformers\n",
    "from transformers import AutoTokenizer, TFAutoModel, TFElectraModel, ElectraTokenizer\n",
    "from tqdm.notebook import tqdm\n",
    "from tokenizers import BertWordPieceTokenizer"
   ]
  },
  {
   "cell_type": "code",
   "execution_count": 3,
   "metadata": {},
   "outputs": [],
   "source": [
    "tqdm.pandas()"
   ]
  },
  {
   "cell_type": "markdown",
   "metadata": {},
   "source": [
    "## Helper functions"
   ]
  },
  {
   "cell_type": "code",
   "execution_count": 4,
   "metadata": {},
   "outputs": [],
   "source": [
    "def fast_encode(texts, tokenizer, chunk_size=256, maxlen=512, enable_padding=False):\n",
    "    \"\"\"\n",
    "    https://www.kaggle.com/xhlulu/jigsaw-tpu-distilbert-with-huggingface-and-keras\n",
    "    \n",
    "    ---\n",
    "    \n",
    "    Inputs:\n",
    "        tokenizer: the `fast_tokenizer` that we imported from the tokenizers library\n",
    "    \"\"\"\n",
    "    tokenizer.enable_truncation(max_length=maxlen)\n",
    "    if enable_padding:\n",
    "        tokenizer.enable_padding(max_length=maxlen)\n",
    "    \n",
    "    all_ids = []\n",
    "    \n",
    "    for i in tqdm(range(0, len(texts), chunk_size)):\n",
    "        text_chunk = texts[i:i+chunk_size].tolist()\n",
    "        encs = tokenizer.encode_batch(text_chunk)\n",
    "        all_ids.extend([enc.ids for enc in encs])\n",
    "    \n",
    "    return np.array(all_ids)"
   ]
  },
  {
   "cell_type": "code",
   "execution_count": 5,
   "metadata": {},
   "outputs": [],
   "source": [
    "def combine_qa_ids(q_ids, a_ids, tokenizer, maxlen=512):\n",
    "    \"\"\"\n",
    "    Given two arrays of IDs (questions and answers) created by\n",
    "    `fast_encode`, we combine and pad them.\n",
    "    Inputs:\n",
    "        tokenizer: The original tokenizer (not the fast_tokenizer)\n",
    "    \"\"\"\n",
    "    combined_ids = []\n",
    "\n",
    "    for i in tqdm(range(q_ids.shape[0])):\n",
    "        ids = []\n",
    "        ids.append(tokenizer.cls_token_id)\n",
    "        ids.extend(q_ids[i])\n",
    "        ids.append(tokenizer.sep_token_id)\n",
    "        ids.extend(a_ids[i])\n",
    "        ids.append(tokenizer.sep_token_id)\n",
    "        ids.extend([tokenizer.pad_token_id] * (maxlen - len(ids)))\n",
    "\n",
    "        combined_ids.append(ids)\n",
    "    \n",
    "    return np.array(combined_ids)"
   ]
  },
  {
   "cell_type": "code",
   "execution_count": 6,
   "metadata": {},
   "outputs": [],
   "source": [
    "def encode_qa(questions, answers, tokenizer, chunk_size=256, maxlen=512):\n",
    "    \"\"\"\n",
    "    https://www.kaggle.com/xhlulu/jigsaw-tpu-distilbert-with-huggingface-and-keras\n",
    "    \"\"\"\n",
    "    tokenizer.enable_truncation(max_length=maxlen)\n",
    "    tokenizer.enable_padding(max_length=maxlen)\n",
    "    all_ids = []\n",
    "    \n",
    "    for i in tqdm(range(0, len(questions), chunk_size)):\n",
    "        q_chunk = questions[i:i+chunk_size].tolist()\n",
    "        a_chunk = answers[i:i+chunk_size].tolist()\n",
    "        text_chunk = list(zip(q_chunk, a_chunk))\n",
    "        \n",
    "        encs = tokenizer.encode_batch(text_chunk)\n",
    "        all_ids.extend([enc.ids for enc in encs])\n",
    "    \n",
    "    return np.array(all_ids)"
   ]
  },
  {
   "cell_type": "code",
   "execution_count": 7,
   "metadata": {},
   "outputs": [],
   "source": [
    "def truncate_text(text, tokenizer, chunk_size=256, maxlen=256):\n",
    "    \"\"\"\n",
    "    Ensure that the text does not have more than maxlen tokens\n",
    "    \"\"\"\n",
    "    tokenizer.enable_truncation(max_length=maxlen)\n",
    "    all_norm_str = []\n",
    "    \n",
    "    for i in tqdm(range(0, len(text), chunk_size)):\n",
    "        chunk = text[i:i+chunk_size].tolist()\n",
    "        encs = tokenizer.encode_batch(chunk)\n",
    "        all_norm_str.extend([str(enc.normalized_str) for enc in encs])\n",
    "    \n",
    "    return all_norm_str"
   ]
  },
  {
   "cell_type": "code",
   "execution_count": 8,
   "metadata": {},
   "outputs": [],
   "source": [
    "def build_model(transformer, max_len=None):\n",
    "    \"\"\"\n",
    "    https://www.kaggle.com/xhlulu/jigsaw-tpu-distilbert-with-huggingface-and-keras\n",
    "    \"\"\"\n",
    "    input_ids = L.Input(shape=(max_len, ), dtype=tf.int32)\n",
    "    \n",
    "    x = transformer(input_ids)[0]\n",
    "    x = x[:, 0, :]\n",
    "    x = L.Dense(1, activation='sigmoid', name='sigmoid')(x)\n",
    "    \n",
    "    # BUILD AND COMPILE MODEL\n",
    "    model = Model(inputs=input_ids, outputs=x)\n",
    "    model.compile(\n",
    "        loss='binary_crossentropy', \n",
    "        metrics=['accuracy'], \n",
    "        optimizer=Adam(lr=1e-5)\n",
    "    )\n",
    "    \n",
    "    return model"
   ]
  },
  {
   "cell_type": "code",
   "execution_count": 9,
   "metadata": {},
   "outputs": [],
   "source": [
    "def save_model(model, sigmoid_dir='transformer', transformer_dir='transformer'):\n",
    "    \"\"\"\n",
    "    Special function to load a keras model that uses a transformer layer\n",
    "    \"\"\"\n",
    "    os.makedirs(transformer_dir, exist_ok=True)\n",
    "    os.makedirs(sigmoid_dir, exist_ok=True)\n",
    "    \n",
    "    transformer = model.layers[1]\n",
    "    transformer.save_pretrained(transformer_dir)\n",
    "    \n",
    "    sigmoid_path = os.path.join(sigmoid_dir,'sigmoid.pickle')\n",
    "    sigmoid = model.get_layer('sigmoid').get_weights()\n",
    "    pickle.dump(sigmoid, open(sigmoid_path, 'wb'))"
   ]
  },
  {
   "cell_type": "code",
   "execution_count": 10,
   "metadata": {},
   "outputs": [],
   "source": [
    "    \n",
    "def load_model(sigmoid_dir='transformer', transformer_dir='transformer', \n",
    "               architecture=\"electra\", max_len=None):\n",
    "    \"\"\"\n",
    "    Special function to load a keras model that uses a transformer layer\n",
    "    \"\"\"\n",
    "    sigmoid_path = os.path.join(sigmoid_dir,'sigmoid.pickle')\n",
    "    \n",
    "    if architecture == 'electra':\n",
    "        transformer = TFElectraModel.from_pretrained(transformer_dir)\n",
    "    else:\n",
    "        transformer = TFAutoModel.from_pretrained(transformer_dir)\n",
    "    model = build_model(transformer, max_len=max_len)\n",
    "    \n",
    "    sigmoid = pickle.load(open(sigmoid_path, 'rb'))\n",
    "    model.get_layer('sigmoid').set_weights(sigmoid)\n",
    "    \n",
    "    return model"
   ]
  },
  {
   "cell_type": "markdown",
   "metadata": {},
   "source": [
    "## TPU Configs"
   ]
  },
  {
   "cell_type": "code",
   "execution_count": 11,
   "metadata": {},
   "outputs": [
    {
     "name": "stdout",
     "output_type": "stream",
     "text": [
      "Running on TPU  grpc://10.0.0.2:8470\n",
      "REPLICAS:  8\n"
     ]
    }
   ],
   "source": [
    "# Detect hardware, return appropriate distribution strategy\n",
    "try:\n",
    "    # TPU detection. No parameters necessary if TPU_NAME environment variable is\n",
    "    # set: this is always the case on Kaggle.\n",
    "    tpu = tf.distribute.cluster_resolver.TPUClusterResolver()\n",
    "    print('Running on TPU ', tpu.master())\n",
    "except ValueError:\n",
    "    tpu = None\n",
    "\n",
    "if tpu:\n",
    "    tf.config.experimental_connect_to_cluster(tpu)\n",
    "    tf.tpu.experimental.initialize_tpu_system(tpu)\n",
    "    strategy = tf.distribute.experimental.TPUStrategy(tpu)\n",
    "else:\n",
    "    # Default distribution strategy in Tensorflow. Works on CPU and single GPU.\n",
    "    strategy = tf.distribute.get_strategy()\n",
    "\n",
    "print(\"REPLICAS: \", strategy.num_replicas_in_sync)"
   ]
  },
  {
   "cell_type": "code",
   "execution_count": 12,
   "metadata": {},
   "outputs": [],
   "source": [
    "AUTO = tf.data.experimental.AUTOTUNE\n",
    "\n",
    "# Configuration\n",
    "EPOCHS = 8\n",
    "BATCH_SIZE = 16 * strategy.num_replicas_in_sync\n",
    "MAX_LEN = 512\n",
    "MODEL = 'google/electra-small-discriminator'"
   ]
  },
  {
   "cell_type": "markdown",
   "metadata": {},
   "source": [
    "## Load data"
   ]
  },
  {
   "cell_type": "code",
   "execution_count": 13,
   "metadata": {},
   "outputs": [
    {
     "data": {
      "text/html": [
       "<div>\n",
       "<style scoped>\n",
       "    .dataframe tbody tr th:only-of-type {\n",
       "        vertical-align: middle;\n",
       "    }\n",
       "\n",
       "    .dataframe tbody tr th {\n",
       "        vertical-align: top;\n",
       "    }\n",
       "\n",
       "    .dataframe thead th {\n",
       "        text-align: right;\n",
       "    }\n",
       "</style>\n",
       "<table border=\"1\" class=\"dataframe\">\n",
       "  <thead>\n",
       "    <tr style=\"text-align: right;\">\n",
       "      <th></th>\n",
       "      <th>Unnamed: 0</th>\n",
       "      <th>question_id</th>\n",
       "      <th>title</th>\n",
       "      <th>question</th>\n",
       "      <th>answer_id</th>\n",
       "      <th>answer</th>\n",
       "      <th>answer_type</th>\n",
       "      <th>wrong_answer</th>\n",
       "      <th>wrong_answer_type</th>\n",
       "      <th>site</th>\n",
       "      <th>group</th>\n",
       "    </tr>\n",
       "  </thead>\n",
       "  <tbody>\n",
       "    <tr>\n",
       "      <th>0</th>\n",
       "      <td>0</td>\n",
       "      <td>398847</td>\n",
       "      <td>How to show UML component load/discovery and r...</td>\n",
       "      <td>In a UML component diagram I want to show two ...</td>\n",
       "      <td>398923</td>\n",
       "      <td>Your first diagram is not correct. Arrow A wou...</td>\n",
       "      <td>Accepted</td>\n",
       "      <td>This way, the dates can easily be sorted as st...</td>\n",
       "      <td>Random</td>\n",
       "      <td>programmers</td>\n",
       "      <td>expert</td>\n",
       "    </tr>\n",
       "    <tr>\n",
       "      <th>1</th>\n",
       "      <td>1</td>\n",
       "      <td>398849</td>\n",
       "      <td>Queue management project - Recommendations</td>\n",
       "      <td>I would like to develop a Patient Queue manage...</td>\n",
       "      <td>398889</td>\n",
       "      <td>Design issue\\n\\nIn reality you have two very d...</td>\n",
       "      <td>Accepted</td>\n",
       "      <td>If the capabilities of your new ISA are simila...</td>\n",
       "      <td>Random</td>\n",
       "      <td>programmers</td>\n",
       "      <td>expert</td>\n",
       "    </tr>\n",
       "    <tr>\n",
       "      <th>2</th>\n",
       "      <td>2</td>\n",
       "      <td>398856</td>\n",
       "      <td>Why is it bad to map between a Model and a Vie...</td>\n",
       "      <td>In a recent Pull Request (PR) of mine, a colle...</td>\n",
       "      <td>398858</td>\n",
       "      <td>\\n  It isn't how extension methods are suppose...</td>\n",
       "      <td>Accepted</td>\n",
       "      <td>You can do all the basic validation on client-...</td>\n",
       "      <td>Random</td>\n",
       "      <td>programmers</td>\n",
       "      <td>expert</td>\n",
       "    </tr>\n",
       "    <tr>\n",
       "      <th>3</th>\n",
       "      <td>3</td>\n",
       "      <td>398857</td>\n",
       "      <td>Managing sprints for multiple releases of the ...</td>\n",
       "      <td>How do you plan a sprint for the same product ...</td>\n",
       "      <td>398888</td>\n",
       "      <td>Sprints are different than releases. Although ...</td>\n",
       "      <td>Accepted</td>\n",
       "      <td>Create a repository to wrap whatever stores yo...</td>\n",
       "      <td>Random</td>\n",
       "      <td>programmers</td>\n",
       "      <td>expert</td>\n",
       "    </tr>\n",
       "    <tr>\n",
       "      <th>4</th>\n",
       "      <td>4</td>\n",
       "      <td>398863</td>\n",
       "      <td>Does references between entities of the same a...</td>\n",
       "      <td>Consider an application being implemented foll...</td>\n",
       "      <td>398866</td>\n",
       "      <td>To your question: \"Does the usage of these ref...</td>\n",
       "      <td>Accepted</td>\n",
       "      <td>I would do the second option but allow the use...</td>\n",
       "      <td>Random</td>\n",
       "      <td>programmers</td>\n",
       "      <td>expert</td>\n",
       "    </tr>\n",
       "  </tbody>\n",
       "</table>\n",
       "</div>"
      ],
      "text/plain": [
       "   Unnamed: 0  question_id                                              title  \\\n",
       "0           0       398847  How to show UML component load/discovery and r...   \n",
       "1           1       398849         Queue management project - Recommendations   \n",
       "2           2       398856  Why is it bad to map between a Model and a Vie...   \n",
       "3           3       398857  Managing sprints for multiple releases of the ...   \n",
       "4           4       398863  Does references between entities of the same a...   \n",
       "\n",
       "                                            question  answer_id  \\\n",
       "0  In a UML component diagram I want to show two ...     398923   \n",
       "1  I would like to develop a Patient Queue manage...     398889   \n",
       "2  In a recent Pull Request (PR) of mine, a colle...     398858   \n",
       "3  How do you plan a sprint for the same product ...     398888   \n",
       "4  Consider an application being implemented foll...     398866   \n",
       "\n",
       "                                              answer answer_type  \\\n",
       "0  Your first diagram is not correct. Arrow A wou...    Accepted   \n",
       "1  Design issue\\n\\nIn reality you have two very d...    Accepted   \n",
       "2  \\n  It isn't how extension methods are suppose...    Accepted   \n",
       "3  Sprints are different than releases. Although ...    Accepted   \n",
       "4  To your question: \"Does the usage of these ref...    Accepted   \n",
       "\n",
       "                                        wrong_answer wrong_answer_type  \\\n",
       "0  This way, the dates can easily be sorted as st...            Random   \n",
       "1  If the capabilities of your new ISA are simila...            Random   \n",
       "2  You can do all the basic validation on client-...            Random   \n",
       "3  Create a repository to wrap whatever stores yo...            Random   \n",
       "4  I would do the second option but allow the use...            Random   \n",
       "\n",
       "          site   group  \n",
       "0  programmers  expert  \n",
       "1  programmers  expert  \n",
       "2  programmers  expert  \n",
       "3  programmers  expert  \n",
       "4  programmers  expert  "
      ]
     },
     "execution_count": 13,
     "metadata": {},
     "output_type": "execute_result"
    }
   ],
   "source": [
    "df = pd.concat([\n",
    "    pd.read_csv(f'/kaggle/input/stackexchange-qa-pairs/pre_covid/{group}.csv')\n",
    "    for group in ['expert', 'biomedical', 'general']\n",
    "]).reset_index(drop=True)\n",
    "\n",
    "df.head()"
   ]
  },
  {
   "cell_type": "code",
   "execution_count": 14,
   "metadata": {},
   "outputs": [],
   "source": [
    "questions = df.title + \"[SEP]\" + df.question"
   ]
  },
  {
   "cell_type": "markdown",
   "metadata": {},
   "source": [
    "## Bert tokenizer"
   ]
  },
  {
   "cell_type": "code",
   "execution_count": 15,
   "metadata": {},
   "outputs": [
    {
     "data": {
      "application/vnd.jupyter.widget-view+json": {
       "model_id": "02e926a2bb094af7a0b0095e1f687b47",
       "version_major": 2,
       "version_minor": 0
      },
      "text/plain": [
       "HBox(children=(FloatProgress(value=0.0, description='Downloading', max=231508.0, style=ProgressStyle(descripti…"
      ]
     },
     "metadata": {},
     "output_type": "display_data"
    },
    {
     "name": "stdout",
     "output_type": "stream",
     "text": [
      "\n"
     ]
    },
    {
     "data": {
      "text/plain": [
       "Tokenizer(vocabulary_size=30522, model=BertWordPiece, add_special_tokens=False, unk_token=[UNK], sep_token=[SEP], cls_token=[CLS], clean_text=True, handle_chinese_chars=True, strip_accents=True, lowercase=True, wordpieces_prefix=##)"
      ]
     },
     "execution_count": 15,
     "metadata": {},
     "output_type": "execute_result"
    }
   ],
   "source": [
    "# First load the real tokenizer\n",
    "tokenizer = ElectraTokenizer.from_pretrained(MODEL)\n",
    "# Save the loaded tokenizer locally\n",
    "tokenizer.save_pretrained('.')\n",
    "# Reload it with the huggingface tokenizers library\n",
    "fast_tokenizer = BertWordPieceTokenizer('vocab.txt', lowercase=True, add_special_tokens=False)\n",
    "fast_tokenizer"
   ]
  },
  {
   "cell_type": "markdown",
   "metadata": {},
   "source": [
    "## Convert text to matrices\n",
    "\n",
    "Caveat: Since a lot of the questions on stackexchange goes over 256, characters, we end up truncating a large part (if not all) of the answers. Thus, we need to \"pre\" truncate them by separately encode the questions and answers, and use a functions to combine them again.\n",
    "\n",
    "Note: Here we are not actually encoding it, instead we load the encoded q&a pairs from another notebook, in order to limit memory consumption."
   ]
  },
  {
   "cell_type": "code",
   "execution_count": 16,
   "metadata": {},
   "outputs": [],
   "source": [
    "# q_ids = fast_encode(questions.values, fast_tokenizer, maxlen=MAX_LEN//2 - 2)\n",
    "# a_ids = fast_encode(df.answer.values, fast_tokenizer, maxlen=MAX_LEN//2 - 2)\n",
    "# wa_ids = fast_encode(df.wrong_answer.values, fast_tokenizer, maxlen=MAX_LEN//2 - 2)\n",
    "\n",
    "# correct_ids = combine_qa_ids(q_ids, a_ids, tokenizer, maxlen=MAX_LEN)\n",
    "# wrong_ids = combine_qa_ids(q_ids, wa_ids, tokenizer, maxlen=MAX_LEN)"
   ]
  },
  {
   "cell_type": "code",
   "execution_count": 17,
   "metadata": {},
   "outputs": [],
   "source": [
    "correct_ids = np.load('/kaggle/input/stackexchange-encode-for-electra/correct_ids.npy')\n",
    "wrong_ids = np.load('/kaggle/input/stackexchange-encode-for-electra/wrong_ids.npy')"
   ]
  },
  {
   "cell_type": "code",
   "execution_count": 18,
   "metadata": {},
   "outputs": [],
   "source": [
    "input_ids = np.concatenate([correct_ids, wrong_ids])\n",
    "\n",
    "labels = np.concatenate([\n",
    "    np.ones(correct_ids.shape[0]),\n",
    "    np.zeros(wrong_ids.shape[0])\n",
    "]).astype(np.int32)"
   ]
  },
  {
   "cell_type": "markdown",
   "metadata": {},
   "source": [
    "## Train test split"
   ]
  },
  {
   "cell_type": "code",
   "execution_count": 19,
   "metadata": {},
   "outputs": [],
   "source": [
    "train_idx, test_idx = train_test_split(\n",
    "    np.arange(input_ids.shape[0]), \n",
    "    test_size=0.3, \n",
    "    random_state=0\n",
    ")\n",
    "\n",
    "valid_idx, test_idx = train_test_split(\n",
    "    test_idx, \n",
    "    test_size=0.5, \n",
    "    random_state=1\n",
    ")"
   ]
  },
  {
   "cell_type": "code",
   "execution_count": 20,
   "metadata": {},
   "outputs": [],
   "source": [
    "train_ids = input_ids[train_idx]\n",
    "valid_ids = input_ids[valid_idx]\n",
    "test_ids = input_ids[test_idx]\n",
    "\n",
    "train_labels = labels[train_idx]\n",
    "valid_labels = labels[valid_idx]\n",
    "test_labels = labels[test_idx]"
   ]
  },
  {
   "cell_type": "markdown",
   "metadata": {},
   "source": [
    "## Build datasets objects"
   ]
  },
  {
   "cell_type": "code",
   "execution_count": 21,
   "metadata": {},
   "outputs": [],
   "source": [
    "train_dataset = (\n",
    "    tf.data.Dataset\n",
    "    .from_tensor_slices((train_ids, train_labels))\n",
    "    .repeat()\n",
    "    .shuffle(2048)\n",
    "    .batch(BATCH_SIZE)\n",
    "    .prefetch(AUTO)\n",
    ")\n",
    "\n",
    "valid_dataset = (\n",
    "    tf.data.Dataset\n",
    "    .from_tensor_slices((valid_ids, valid_labels))\n",
    "    .batch(BATCH_SIZE)\n",
    "    .cache()\n",
    "    .prefetch(AUTO)\n",
    ")\n",
    "\n",
    "test_dataset = (\n",
    "    tf.data.Dataset\n",
    "    .from_tensor_slices(test_ids)\n",
    "    .batch(BATCH_SIZE)\n",
    ")"
   ]
  },
  {
   "cell_type": "markdown",
   "metadata": {
    "_cell_guid": "79c7e3d0-c299-4dcb-8224-4455121ee9b0",
    "_uuid": "d629ff2d2480ee46fbb7e2d37f6b5fab8052498a",
    "collapsed": true
   },
   "source": [
    "## Modeling"
   ]
  },
  {
   "cell_type": "code",
   "execution_count": 22,
   "metadata": {
    "_kg_hide-output": true
   },
   "outputs": [
    {
     "data": {
      "application/vnd.jupyter.widget-view+json": {
       "model_id": "ffd865eed3464d85a2f18b38b51359e8",
       "version_major": 2,
       "version_minor": 0
      },
      "text/plain": [
       "HBox(children=(FloatProgress(value=0.0, description='Downloading', max=445.0, style=ProgressStyle(description_…"
      ]
     },
     "metadata": {},
     "output_type": "display_data"
    },
    {
     "name": "stdout",
     "output_type": "stream",
     "text": [
      "\n"
     ]
    },
    {
     "data": {
      "application/vnd.jupyter.widget-view+json": {
       "model_id": "68f45943ff13456b8150f2a1a68f2444",
       "version_major": 2,
       "version_minor": 0
      },
      "text/plain": [
       "HBox(children=(FloatProgress(value=0.0, description='Downloading', max=54466044.0, style=ProgressStyle(descrip…"
      ]
     },
     "metadata": {},
     "output_type": "display_data"
    },
    {
     "name": "stdout",
     "output_type": "stream",
     "text": [
      "\n",
      "Model: \"model\"\n",
      "_________________________________________________________________\n",
      "Layer (type)                 Output Shape              Param #   \n",
      "=================================================================\n",
      "input_1 (InputLayer)         [(None, 512)]             0         \n",
      "_________________________________________________________________\n",
      "tf_electra_model (TFElectraM ((None, 512, 256),)       13483008  \n",
      "_________________________________________________________________\n",
      "tf_op_layer_strided_slice (T [(None, 256)]             0         \n",
      "_________________________________________________________________\n",
      "sigmoid (Dense)              (None, 1)                 257       \n",
      "=================================================================\n",
      "Total params: 13,483,265\n",
      "Trainable params: 13,483,265\n",
      "Non-trainable params: 0\n",
      "_________________________________________________________________\n",
      "CPU times: user 12.4 s, sys: 2.56 s, total: 14.9 s\n",
      "Wall time: 17.7 s\n"
     ]
    }
   ],
   "source": [
    "%%time\n",
    "with strategy.scope():\n",
    "    transformer_layer = TFElectraModel.from_pretrained(MODEL)\n",
    "    model = build_model(transformer_layer, max_len=MAX_LEN)\n",
    "model.summary()"
   ]
  },
  {
   "cell_type": "markdown",
   "metadata": {},
   "source": [
    "### Train model"
   ]
  },
  {
   "cell_type": "code",
   "execution_count": 23,
   "metadata": {},
   "outputs": [
    {
     "name": "stdout",
     "output_type": "stream",
     "text": [
      "Train for 3209 steps, validate for 688 steps\n",
      "Epoch 1/8\n",
      "3209/3209 [==============================] - 573s 179ms/step - loss: 0.3794 - accuracy: 0.8315 - val_loss: 0.3082 - val_accuracy: 0.8763\n",
      "Epoch 2/8\n",
      "3209/3209 [==============================] - 481s 150ms/step - loss: 0.2834 - accuracy: 0.8858 - val_loss: 0.2920 - val_accuracy: 0.8825\n",
      "Epoch 4/8\n",
      "3209/3209 [==============================] - 478s 149ms/step - loss: 0.2710 - accuracy: 0.8909 - val_loss: 0.2844 - val_accuracy: 0.8868\n",
      "Epoch 5/8\n",
      "3209/3209 [==============================] - 477s 149ms/step - loss: 0.2596 - accuracy: 0.8957 - val_loss: 0.2822 - val_accuracy: 0.8866\n",
      "Epoch 6/8\n",
      "3209/3209 [==============================] - 483s 150ms/step - loss: 0.2322 - accuracy: 0.9071 - val_loss: 0.2898 - val_accuracy: 0.8888\n"
     ]
    }
   ],
   "source": [
    "n_steps = train_labels.shape[0] // BATCH_SIZE\n",
    "\n",
    "train_history = model.fit(\n",
    "    train_dataset,\n",
    "    steps_per_epoch=n_steps,\n",
    "    validation_data=valid_dataset,\n",
    "    epochs=EPOCHS\n",
    ")"
   ]
  },
  {
   "cell_type": "code",
   "execution_count": 24,
   "metadata": {},
   "outputs": [],
   "source": [
    "save_model(model)"
   ]
  },
  {
   "cell_type": "code",
   "execution_count": 25,
   "metadata": {},
   "outputs": [
    {
     "data": {
      "text/html": [
       "<div>\n",
       "<style scoped>\n",
       "    .dataframe tbody tr th:only-of-type {\n",
       "        vertical-align: middle;\n",
       "    }\n",
       "\n",
       "    .dataframe tbody tr th {\n",
       "        vertical-align: top;\n",
       "    }\n",
       "\n",
       "    .dataframe thead th {\n",
       "        text-align: right;\n",
       "    }\n",
       "</style>\n",
       "<table border=\"1\" class=\"dataframe\">\n",
       "  <thead>\n",
       "    <tr style=\"text-align: right;\">\n",
       "      <th></th>\n",
       "      <th>loss</th>\n",
       "      <th>accuracy</th>\n",
       "      <th>val_loss</th>\n",
       "      <th>val_accuracy</th>\n",
       "    </tr>\n",
       "  </thead>\n",
       "  <tbody>\n",
       "    <tr>\n",
       "      <th>0</th>\n",
       "      <td>0.379429</td>\n",
       "      <td>0.831492</td>\n",
       "      <td>0.308205</td>\n",
       "      <td>0.876306</td>\n",
       "    </tr>\n",
       "    <tr>\n",
       "      <th>1</th>\n",
       "      <td>0.301452</td>\n",
       "      <td>0.877814</td>\n",
       "      <td>0.310645</td>\n",
       "      <td>0.879282</td>\n",
       "    </tr>\n",
       "    <tr>\n",
       "      <th>2</th>\n",
       "      <td>0.283414</td>\n",
       "      <td>0.885783</td>\n",
       "      <td>0.291989</td>\n",
       "      <td>0.882508</td>\n",
       "    </tr>\n",
       "    <tr>\n",
       "      <th>3</th>\n",
       "      <td>0.271009</td>\n",
       "      <td>0.890932</td>\n",
       "      <td>0.284387</td>\n",
       "      <td>0.886779</td>\n",
       "    </tr>\n",
       "    <tr>\n",
       "      <th>4</th>\n",
       "      <td>0.259630</td>\n",
       "      <td>0.895664</td>\n",
       "      <td>0.282210</td>\n",
       "      <td>0.886608</td>\n",
       "    </tr>\n",
       "    <tr>\n",
       "      <th>5</th>\n",
       "      <td>0.250051</td>\n",
       "      <td>0.899596</td>\n",
       "      <td>0.285317</td>\n",
       "      <td>0.887824</td>\n",
       "    </tr>\n",
       "    <tr>\n",
       "      <th>6</th>\n",
       "      <td>0.240942</td>\n",
       "      <td>0.903509</td>\n",
       "      <td>0.287232</td>\n",
       "      <td>0.887426</td>\n",
       "    </tr>\n",
       "    <tr>\n",
       "      <th>7</th>\n",
       "      <td>0.232235</td>\n",
       "      <td>0.907131</td>\n",
       "      <td>0.289811</td>\n",
       "      <td>0.888755</td>\n",
       "    </tr>\n",
       "  </tbody>\n",
       "</table>\n",
       "</div>"
      ],
      "text/plain": [
       "       loss  accuracy  val_loss  val_accuracy\n",
       "0  0.379429  0.831492  0.308205      0.876306\n",
       "1  0.301452  0.877814  0.310645      0.879282\n",
       "2  0.283414  0.885783  0.291989      0.882508\n",
       "3  0.271009  0.890932  0.284387      0.886779\n",
       "4  0.259630  0.895664  0.282210      0.886608\n",
       "5  0.250051  0.899596  0.285317      0.887824\n",
       "6  0.240942  0.903509  0.287232      0.887426\n",
       "7  0.232235  0.907131  0.289811      0.888755"
      ]
     },
     "execution_count": 25,
     "metadata": {},
     "output_type": "execute_result"
    }
   ],
   "source": [
    "hist_df = pd.DataFrame(train_history.history)\n",
    "hist_df.to_csv('train_history.csv')\n",
    "hist_df"
   ]
  },
  {
   "cell_type": "markdown",
   "metadata": {},
   "source": [
    "## Eval"
   ]
  },
  {
   "cell_type": "code",
   "execution_count": 26,
   "metadata": {},
   "outputs": [],
   "source": [
    "with strategy.scope():\n",
    "    model = load_model(max_len=MAX_LEN)"
   ]
  },
  {
   "cell_type": "code",
   "execution_count": 27,
   "metadata": {},
   "outputs": [
    {
     "name": "stdout",
     "output_type": "stream",
     "text": [
      "688/688 [==============================] - 67s 98ms/step\n",
      "AP: 0.9336920747539842\n",
      "ROC AUC: 0.9488429998168292\n",
      "              precision    recall  f1-score   support\n",
      "\n",
      "           0       0.94      0.84      0.88     44307\n",
      "           1       0.85      0.94      0.89     43734\n",
      "\n",
      "    accuracy                           0.89     88041\n",
      "   macro avg       0.89      0.89      0.89     88041\n",
      "weighted avg       0.89      0.89      0.89     88041\n",
      "\n"
     ]
    }
   ],
   "source": [
    "y_score = model.predict(test_dataset, verbose=1).squeeze()\n",
    "y_pred = y_score.round().astype(int)\n",
    "print(\"AP:\", average_precision_score(test_labels, y_score))\n",
    "print(\"ROC AUC:\", roc_auc_score(test_labels, y_score))\n",
    "print(classification_report(test_labels, y_pred))"
   ]
  }
 ],
 "metadata": {
  "kernelspec": {
   "display_name": "Python 3",
   "language": "python",
   "name": "python3"
  },
  "language_info": {
   "codemirror_mode": {
    "name": "ipython",
    "version": 3
   },
   "file_extension": ".py",
   "mimetype": "text/x-python",
   "name": "python",
   "nbconvert_exporter": "python",
   "pygments_lexer": "ipython3",
   "version": "3.6.6"
  },
  "widgets": {
   "application/vnd.jupyter.widget-state+json": {
    "state": {
     "02e926a2bb094af7a0b0095e1f687b47": {
      "model_module": "@jupyter-widgets/controls",
      "model_module_version": "1.5.0",
      "model_name": "HBoxModel",
      "state": {
       "_dom_classes": [],
       "_model_module": "@jupyter-widgets/controls",
       "_model_module_version": "1.5.0",
       "_model_name": "HBoxModel",
       "_view_count": null,
       "_view_module": "@jupyter-widgets/controls",
       "_view_module_version": "1.5.0",
       "_view_name": "HBoxView",
       "box_style": "",
       "children": [
        "IPY_MODEL_2209453cc44f48ba8208ac5c790e224c",
        "IPY_MODEL_983b6d20816144ef817ebad84a68b768"
       ],
       "layout": "IPY_MODEL_4c580332225b40899e8624c99e5ef626"
      }
     },
     "17a295683edd473c98a6194c250576cf": {
      "model_module": "@jupyter-widgets/controls",
      "model_module_version": "1.5.0",
      "model_name": "FloatProgressModel",
      "state": {
       "_dom_classes": [],
       "_model_module": "@jupyter-widgets/controls",
       "_model_module_version": "1.5.0",
       "_model_name": "FloatProgressModel",
       "_view_count": null,
       "_view_module": "@jupyter-widgets/controls",
       "_view_module_version": "1.5.0",
       "_view_name": "ProgressView",
       "bar_style": "success",
       "description": "Downloading: 100%",
       "description_tooltip": null,
       "layout": "IPY_MODEL_79510c9a102f4182ab7da540c8eb68f1",
       "max": 54466044.0,
       "min": 0.0,
       "orientation": "horizontal",
       "style": "IPY_MODEL_3dcc7b43eecb4e999f364ca1b3ce7cbc",
       "value": 54466044.0
      }
     },
     "2209453cc44f48ba8208ac5c790e224c": {
      "model_module": "@jupyter-widgets/controls",
      "model_module_version": "1.5.0",
      "model_name": "FloatProgressModel",
      "state": {
       "_dom_classes": [],
       "_model_module": "@jupyter-widgets/controls",
       "_model_module_version": "1.5.0",
       "_model_name": "FloatProgressModel",
       "_view_count": null,
       "_view_module": "@jupyter-widgets/controls",
       "_view_module_version": "1.5.0",
       "_view_name": "ProgressView",
       "bar_style": "success",
       "description": "Downloading: 100%",
       "description_tooltip": null,
       "layout": "IPY_MODEL_48290b98246041a2a9e86f29a4ecf3d7",
       "max": 231508.0,
       "min": 0.0,
       "orientation": "horizontal",
       "style": "IPY_MODEL_6992f62e300c441395194689ab127e4e",
       "value": 231508.0
      }
     },
     "2a5c547344e8451f8be5e98c92b71cae": {
      "model_module": "@jupyter-widgets/base",
      "model_module_version": "1.2.0",
      "model_name": "LayoutModel",
      "state": {
       "_model_module": "@jupyter-widgets/base",
       "_model_module_version": "1.2.0",
       "_model_name": "LayoutModel",
       "_view_count": null,
       "_view_module": "@jupyter-widgets/base",
       "_view_module_version": "1.2.0",
       "_view_name": "LayoutView",
       "align_content": null,
       "align_items": null,
       "align_self": null,
       "border": null,
       "bottom": null,
       "display": null,
       "flex": null,
       "flex_flow": null,
       "grid_area": null,
       "grid_auto_columns": null,
       "grid_auto_flow": null,
       "grid_auto_rows": null,
       "grid_column": null,
       "grid_gap": null,
       "grid_row": null,
       "grid_template_areas": null,
       "grid_template_columns": null,
       "grid_template_rows": null,
       "height": null,
       "justify_content": null,
       "justify_items": null,
       "left": null,
       "margin": null,
       "max_height": null,
       "max_width": null,
       "min_height": null,
       "min_width": null,
       "object_fit": null,
       "object_position": null,
       "order": null,
       "overflow": null,
       "overflow_x": null,
       "overflow_y": null,
       "padding": null,
       "right": null,
       "top": null,
       "visibility": null,
       "width": null
      }
     },
     "35f686ac1cb74af4aac724c2484cdcd3": {
      "model_module": "@jupyter-widgets/controls",
      "model_module_version": "1.5.0",
      "model_name": "HTMLModel",
      "state": {
       "_dom_classes": [],
       "_model_module": "@jupyter-widgets/controls",
       "_model_module_version": "1.5.0",
       "_model_name": "HTMLModel",
       "_view_count": null,
       "_view_module": "@jupyter-widgets/controls",
       "_view_module_version": "1.5.0",
       "_view_name": "HTMLView",
       "description": "",
       "description_tooltip": null,
       "layout": "IPY_MODEL_2a5c547344e8451f8be5e98c92b71cae",
       "placeholder": "​",
       "style": "IPY_MODEL_da6751c305f24f359b6e4197aad6248f",
       "value": " 54.5M/54.5M [00:01&lt;00:00, 35.1MB/s]"
      }
     },
     "3dcc7b43eecb4e999f364ca1b3ce7cbc": {
      "model_module": "@jupyter-widgets/controls",
      "model_module_version": "1.5.0",
      "model_name": "ProgressStyleModel",
      "state": {
       "_model_module": "@jupyter-widgets/controls",
       "_model_module_version": "1.5.0",
       "_model_name": "ProgressStyleModel",
       "_view_count": null,
       "_view_module": "@jupyter-widgets/base",
       "_view_module_version": "1.2.0",
       "_view_name": "StyleView",
       "bar_color": null,
       "description_width": "initial"
      }
     },
     "48290b98246041a2a9e86f29a4ecf3d7": {
      "model_module": "@jupyter-widgets/base",
      "model_module_version": "1.2.0",
      "model_name": "LayoutModel",
      "state": {
       "_model_module": "@jupyter-widgets/base",
       "_model_module_version": "1.2.0",
       "_model_name": "LayoutModel",
       "_view_count": null,
       "_view_module": "@jupyter-widgets/base",
       "_view_module_version": "1.2.0",
       "_view_name": "LayoutView",
       "align_content": null,
       "align_items": null,
       "align_self": null,
       "border": null,
       "bottom": null,
       "display": null,
       "flex": null,
       "flex_flow": null,
       "grid_area": null,
       "grid_auto_columns": null,
       "grid_auto_flow": null,
       "grid_auto_rows": null,
       "grid_column": null,
       "grid_gap": null,
       "grid_row": null,
       "grid_template_areas": null,
       "grid_template_columns": null,
       "grid_template_rows": null,
       "height": null,
       "justify_content": null,
       "justify_items": null,
       "left": null,
       "margin": null,
       "max_height": null,
       "max_width": null,
       "min_height": null,
       "min_width": null,
       "object_fit": null,
       "object_position": null,
       "order": null,
       "overflow": null,
       "overflow_x": null,
       "overflow_y": null,
       "padding": null,
       "right": null,
       "top": null,
       "visibility": null,
       "width": null
      }
     },
     "4c580332225b40899e8624c99e5ef626": {
      "model_module": "@jupyter-widgets/base",
      "model_module_version": "1.2.0",
      "model_name": "LayoutModel",
      "state": {
       "_model_module": "@jupyter-widgets/base",
       "_model_module_version": "1.2.0",
       "_model_name": "LayoutModel",
       "_view_count": null,
       "_view_module": "@jupyter-widgets/base",
       "_view_module_version": "1.2.0",
       "_view_name": "LayoutView",
       "align_content": null,
       "align_items": null,
       "align_self": null,
       "border": null,
       "bottom": null,
       "display": null,
       "flex": null,
       "flex_flow": null,
       "grid_area": null,
       "grid_auto_columns": null,
       "grid_auto_flow": null,
       "grid_auto_rows": null,
       "grid_column": null,
       "grid_gap": null,
       "grid_row": null,
       "grid_template_areas": null,
       "grid_template_columns": null,
       "grid_template_rows": null,
       "height": null,
       "justify_content": null,
       "justify_items": null,
       "left": null,
       "margin": null,
       "max_height": null,
       "max_width": null,
       "min_height": null,
       "min_width": null,
       "object_fit": null,
       "object_position": null,
       "order": null,
       "overflow": null,
       "overflow_x": null,
       "overflow_y": null,
       "padding": null,
       "right": null,
       "top": null,
       "visibility": null,
       "width": null
      }
     },
     "587b7dd1c3644d169f76293b2c8f323a": {
      "model_module": "@jupyter-widgets/base",
      "model_module_version": "1.2.0",
      "model_name": "LayoutModel",
      "state": {
       "_model_module": "@jupyter-widgets/base",
       "_model_module_version": "1.2.0",
       "_model_name": "LayoutModel",
       "_view_count": null,
       "_view_module": "@jupyter-widgets/base",
       "_view_module_version": "1.2.0",
       "_view_name": "LayoutView",
       "align_content": null,
       "align_items": null,
       "align_self": null,
       "border": null,
       "bottom": null,
       "display": null,
       "flex": null,
       "flex_flow": null,
       "grid_area": null,
       "grid_auto_columns": null,
       "grid_auto_flow": null,
       "grid_auto_rows": null,
       "grid_column": null,
       "grid_gap": null,
       "grid_row": null,
       "grid_template_areas": null,
       "grid_template_columns": null,
       "grid_template_rows": null,
       "height": null,
       "justify_content": null,
       "justify_items": null,
       "left": null,
       "margin": null,
       "max_height": null,
       "max_width": null,
       "min_height": null,
       "min_width": null,
       "object_fit": null,
       "object_position": null,
       "order": null,
       "overflow": null,
       "overflow_x": null,
       "overflow_y": null,
       "padding": null,
       "right": null,
       "top": null,
       "visibility": null,
       "width": null
      }
     },
     "64d82ae72b904294bba4f9a37559df0b": {
      "model_module": "@jupyter-widgets/controls",
      "model_module_version": "1.5.0",
      "model_name": "DescriptionStyleModel",
      "state": {
       "_model_module": "@jupyter-widgets/controls",
       "_model_module_version": "1.5.0",
       "_model_name": "DescriptionStyleModel",
       "_view_count": null,
       "_view_module": "@jupyter-widgets/base",
       "_view_module_version": "1.2.0",
       "_view_name": "StyleView",
       "description_width": ""
      }
     },
     "68f45943ff13456b8150f2a1a68f2444": {
      "model_module": "@jupyter-widgets/controls",
      "model_module_version": "1.5.0",
      "model_name": "HBoxModel",
      "state": {
       "_dom_classes": [],
       "_model_module": "@jupyter-widgets/controls",
       "_model_module_version": "1.5.0",
       "_model_name": "HBoxModel",
       "_view_count": null,
       "_view_module": "@jupyter-widgets/controls",
       "_view_module_version": "1.5.0",
       "_view_name": "HBoxView",
       "box_style": "",
       "children": [
        "IPY_MODEL_17a295683edd473c98a6194c250576cf",
        "IPY_MODEL_35f686ac1cb74af4aac724c2484cdcd3"
       ],
       "layout": "IPY_MODEL_bb555114e5de419593914e43ef6b522f"
      }
     },
     "6948488214b64b47973211e13be68873": {
      "model_module": "@jupyter-widgets/controls",
      "model_module_version": "1.5.0",
      "model_name": "FloatProgressModel",
      "state": {
       "_dom_classes": [],
       "_model_module": "@jupyter-widgets/controls",
       "_model_module_version": "1.5.0",
       "_model_name": "FloatProgressModel",
       "_view_count": null,
       "_view_module": "@jupyter-widgets/controls",
       "_view_module_version": "1.5.0",
       "_view_name": "ProgressView",
       "bar_style": "success",
       "description": "Downloading: 100%",
       "description_tooltip": null,
       "layout": "IPY_MODEL_b98a38949c6f44288f83646356756630",
       "max": 445.0,
       "min": 0.0,
       "orientation": "horizontal",
       "style": "IPY_MODEL_7a541a37ae634971ad7c1673366a4304",
       "value": 445.0
      }
     },
     "6992f62e300c441395194689ab127e4e": {
      "model_module": "@jupyter-widgets/controls",
      "model_module_version": "1.5.0",
      "model_name": "ProgressStyleModel",
      "state": {
       "_model_module": "@jupyter-widgets/controls",
       "_model_module_version": "1.5.0",
       "_model_name": "ProgressStyleModel",
       "_view_count": null,
       "_view_module": "@jupyter-widgets/base",
       "_view_module_version": "1.2.0",
       "_view_name": "StyleView",
       "bar_color": null,
       "description_width": "initial"
      }
     },
     "708631e77c3f48598e931f17758556a2": {
      "model_module": "@jupyter-widgets/controls",
      "model_module_version": "1.5.0",
      "model_name": "HTMLModel",
      "state": {
       "_dom_classes": [],
       "_model_module": "@jupyter-widgets/controls",
       "_model_module_version": "1.5.0",
       "_model_name": "HTMLModel",
       "_view_count": null,
       "_view_module": "@jupyter-widgets/controls",
       "_view_module_version": "1.5.0",
       "_view_name": "HTMLView",
       "description": "",
       "description_tooltip": null,
       "layout": "IPY_MODEL_9986e97b8fbe4c44b0f48e3efd366547",
       "placeholder": "​",
       "style": "IPY_MODEL_f9b06cee563b46c4964ffec843061812",
       "value": " 445/445 [00:02&lt;00:00, 208B/s]"
      }
     },
     "79510c9a102f4182ab7da540c8eb68f1": {
      "model_module": "@jupyter-widgets/base",
      "model_module_version": "1.2.0",
      "model_name": "LayoutModel",
      "state": {
       "_model_module": "@jupyter-widgets/base",
       "_model_module_version": "1.2.0",
       "_model_name": "LayoutModel",
       "_view_count": null,
       "_view_module": "@jupyter-widgets/base",
       "_view_module_version": "1.2.0",
       "_view_name": "LayoutView",
       "align_content": null,
       "align_items": null,
       "align_self": null,
       "border": null,
       "bottom": null,
       "display": null,
       "flex": null,
       "flex_flow": null,
       "grid_area": null,
       "grid_auto_columns": null,
       "grid_auto_flow": null,
       "grid_auto_rows": null,
       "grid_column": null,
       "grid_gap": null,
       "grid_row": null,
       "grid_template_areas": null,
       "grid_template_columns": null,
       "grid_template_rows": null,
       "height": null,
       "justify_content": null,
       "justify_items": null,
       "left": null,
       "margin": null,
       "max_height": null,
       "max_width": null,
       "min_height": null,
       "min_width": null,
       "object_fit": null,
       "object_position": null,
       "order": null,
       "overflow": null,
       "overflow_x": null,
       "overflow_y": null,
       "padding": null,
       "right": null,
       "top": null,
       "visibility": null,
       "width": null
      }
     },
     "7a541a37ae634971ad7c1673366a4304": {
      "model_module": "@jupyter-widgets/controls",
      "model_module_version": "1.5.0",
      "model_name": "ProgressStyleModel",
      "state": {
       "_model_module": "@jupyter-widgets/controls",
       "_model_module_version": "1.5.0",
       "_model_name": "ProgressStyleModel",
       "_view_count": null,
       "_view_module": "@jupyter-widgets/base",
       "_view_module_version": "1.2.0",
       "_view_name": "StyleView",
       "bar_color": null,
       "description_width": "initial"
      }
     },
     "983b6d20816144ef817ebad84a68b768": {
      "model_module": "@jupyter-widgets/controls",
      "model_module_version": "1.5.0",
      "model_name": "HTMLModel",
      "state": {
       "_dom_classes": [],
       "_model_module": "@jupyter-widgets/controls",
       "_model_module_version": "1.5.0",
       "_model_name": "HTMLModel",
       "_view_count": null,
       "_view_module": "@jupyter-widgets/controls",
       "_view_module_version": "1.5.0",
       "_view_name": "HTMLView",
       "description": "",
       "description_tooltip": null,
       "layout": "IPY_MODEL_587b7dd1c3644d169f76293b2c8f323a",
       "placeholder": "​",
       "style": "IPY_MODEL_64d82ae72b904294bba4f9a37559df0b",
       "value": " 232k/232k [00:00&lt;00:00, 1.34MB/s]"
      }
     },
     "9986e97b8fbe4c44b0f48e3efd366547": {
      "model_module": "@jupyter-widgets/base",
      "model_module_version": "1.2.0",
      "model_name": "LayoutModel",
      "state": {
       "_model_module": "@jupyter-widgets/base",
       "_model_module_version": "1.2.0",
       "_model_name": "LayoutModel",
       "_view_count": null,
       "_view_module": "@jupyter-widgets/base",
       "_view_module_version": "1.2.0",
       "_view_name": "LayoutView",
       "align_content": null,
       "align_items": null,
       "align_self": null,
       "border": null,
       "bottom": null,
       "display": null,
       "flex": null,
       "flex_flow": null,
       "grid_area": null,
       "grid_auto_columns": null,
       "grid_auto_flow": null,
       "grid_auto_rows": null,
       "grid_column": null,
       "grid_gap": null,
       "grid_row": null,
       "grid_template_areas": null,
       "grid_template_columns": null,
       "grid_template_rows": null,
       "height": null,
       "justify_content": null,
       "justify_items": null,
       "left": null,
       "margin": null,
       "max_height": null,
       "max_width": null,
       "min_height": null,
       "min_width": null,
       "object_fit": null,
       "object_position": null,
       "order": null,
       "overflow": null,
       "overflow_x": null,
       "overflow_y": null,
       "padding": null,
       "right": null,
       "top": null,
       "visibility": null,
       "width": null
      }
     },
     "b98a38949c6f44288f83646356756630": {
      "model_module": "@jupyter-widgets/base",
      "model_module_version": "1.2.0",
      "model_name": "LayoutModel",
      "state": {
       "_model_module": "@jupyter-widgets/base",
       "_model_module_version": "1.2.0",
       "_model_name": "LayoutModel",
       "_view_count": null,
       "_view_module": "@jupyter-widgets/base",
       "_view_module_version": "1.2.0",
       "_view_name": "LayoutView",
       "align_content": null,
       "align_items": null,
       "align_self": null,
       "border": null,
       "bottom": null,
       "display": null,
       "flex": null,
       "flex_flow": null,
       "grid_area": null,
       "grid_auto_columns": null,
       "grid_auto_flow": null,
       "grid_auto_rows": null,
       "grid_column": null,
       "grid_gap": null,
       "grid_row": null,
       "grid_template_areas": null,
       "grid_template_columns": null,
       "grid_template_rows": null,
       "height": null,
       "justify_content": null,
       "justify_items": null,
       "left": null,
       "margin": null,
       "max_height": null,
       "max_width": null,
       "min_height": null,
       "min_width": null,
       "object_fit": null,
       "object_position": null,
       "order": null,
       "overflow": null,
       "overflow_x": null,
       "overflow_y": null,
       "padding": null,
       "right": null,
       "top": null,
       "visibility": null,
       "width": null
      }
     },
     "bb555114e5de419593914e43ef6b522f": {
      "model_module": "@jupyter-widgets/base",
      "model_module_version": "1.2.0",
      "model_name": "LayoutModel",
      "state": {
       "_model_module": "@jupyter-widgets/base",
       "_model_module_version": "1.2.0",
       "_model_name": "LayoutModel",
       "_view_count": null,
       "_view_module": "@jupyter-widgets/base",
       "_view_module_version": "1.2.0",
       "_view_name": "LayoutView",
       "align_content": null,
       "align_items": null,
       "align_self": null,
       "border": null,
       "bottom": null,
       "display": null,
       "flex": null,
       "flex_flow": null,
       "grid_area": null,
       "grid_auto_columns": null,
       "grid_auto_flow": null,
       "grid_auto_rows": null,
       "grid_column": null,
       "grid_gap": null,
       "grid_row": null,
       "grid_template_areas": null,
       "grid_template_columns": null,
       "grid_template_rows": null,
       "height": null,
       "justify_content": null,
       "justify_items": null,
       "left": null,
       "margin": null,
       "max_height": null,
       "max_width": null,
       "min_height": null,
       "min_width": null,
       "object_fit": null,
       "object_position": null,
       "order": null,
       "overflow": null,
       "overflow_x": null,
       "overflow_y": null,
       "padding": null,
       "right": null,
       "top": null,
       "visibility": null,
       "width": null
      }
     },
     "ccba18fcfc0c46f88a36bd78a9b75cee": {
      "model_module": "@jupyter-widgets/base",
      "model_module_version": "1.2.0",
      "model_name": "LayoutModel",
      "state": {
       "_model_module": "@jupyter-widgets/base",
       "_model_module_version": "1.2.0",
       "_model_name": "LayoutModel",
       "_view_count": null,
       "_view_module": "@jupyter-widgets/base",
       "_view_module_version": "1.2.0",
       "_view_name": "LayoutView",
       "align_content": null,
       "align_items": null,
       "align_self": null,
       "border": null,
       "bottom": null,
       "display": null,
       "flex": null,
       "flex_flow": null,
       "grid_area": null,
       "grid_auto_columns": null,
       "grid_auto_flow": null,
       "grid_auto_rows": null,
       "grid_column": null,
       "grid_gap": null,
       "grid_row": null,
       "grid_template_areas": null,
       "grid_template_columns": null,
       "grid_template_rows": null,
       "height": null,
       "justify_content": null,
       "justify_items": null,
       "left": null,
       "margin": null,
       "max_height": null,
       "max_width": null,
       "min_height": null,
       "min_width": null,
       "object_fit": null,
       "object_position": null,
       "order": null,
       "overflow": null,
       "overflow_x": null,
       "overflow_y": null,
       "padding": null,
       "right": null,
       "top": null,
       "visibility": null,
       "width": null
      }
     },
     "da6751c305f24f359b6e4197aad6248f": {
      "model_module": "@jupyter-widgets/controls",
      "model_module_version": "1.5.0",
      "model_name": "DescriptionStyleModel",
      "state": {
       "_model_module": "@jupyter-widgets/controls",
       "_model_module_version": "1.5.0",
       "_model_name": "DescriptionStyleModel",
       "_view_count": null,
       "_view_module": "@jupyter-widgets/base",
       "_view_module_version": "1.2.0",
       "_view_name": "StyleView",
       "description_width": ""
      }
     },
     "f9b06cee563b46c4964ffec843061812": {
      "model_module": "@jupyter-widgets/controls",
      "model_module_version": "1.5.0",
      "model_name": "DescriptionStyleModel",
      "state": {
       "_model_module": "@jupyter-widgets/controls",
       "_model_module_version": "1.5.0",
       "_model_name": "DescriptionStyleModel",
       "_view_count": null,
       "_view_module": "@jupyter-widgets/base",
       "_view_module_version": "1.2.0",
       "_view_name": "StyleView",
       "description_width": ""
      }
     },
     "ffd865eed3464d85a2f18b38b51359e8": {
      "model_module": "@jupyter-widgets/controls",
      "model_module_version": "1.5.0",
      "model_name": "HBoxModel",
      "state": {
       "_dom_classes": [],
       "_model_module": "@jupyter-widgets/controls",
       "_model_module_version": "1.5.0",
       "_model_name": "HBoxModel",
       "_view_count": null,
       "_view_module": "@jupyter-widgets/controls",
       "_view_module_version": "1.5.0",
       "_view_name": "HBoxView",
       "box_style": "",
       "children": [
        "IPY_MODEL_6948488214b64b47973211e13be68873",
        "IPY_MODEL_708631e77c3f48598e931f17758556a2"
       ],
       "layout": "IPY_MODEL_ccba18fcfc0c46f88a36bd78a9b75cee"
      }
     }
    },
    "version_major": 2,
    "version_minor": 0
   }
  }
 },
 "nbformat": 4,
 "nbformat_minor": 4
}
