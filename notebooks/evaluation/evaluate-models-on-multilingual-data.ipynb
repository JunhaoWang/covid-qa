{
 "cells": [
  {
   "cell_type": "code",
   "execution_count": 1,
   "metadata": {},
   "outputs": [
    {
     "name": "stdout",
     "output_type": "stream",
     "text": [
      "\u001b[31mERROR: pandas-profiling 2.5.0 has requirement pandas==0.25.3, but you'll have pandas 1.0.3 which is incompatible.\u001b[0m\r\n",
      "\u001b[31mERROR: hypertools 0.6.2 has requirement scikit-learn<0.22,>=0.19.1, but you'll have scikit-learn 0.22.2.post1 which is incompatible.\u001b[0m\r\n"
     ]
    }
   ],
   "source": [
    "!pip -q install pandas --upgrade"
   ]
  },
  {
   "cell_type": "code",
   "execution_count": 2,
   "metadata": {
    "_cell_guid": "b1076dfc-b9ad-4769-8c92-a6c4dae69d19",
    "_uuid": "8f2839f25d086af736a60e9eeb907d3b93b6e0e5"
   },
   "outputs": [],
   "source": [
    "import os\n",
    "import pickle\n",
    "import json\n",
    "\n",
    "import numpy as np\n",
    "import pandas as pd\n",
    "import tensorflow as tf\n",
    "import tensorflow.keras.layers as L\n",
    "from tensorflow.keras.optimizers import Adam\n",
    "from tensorflow.keras.models import Model\n",
    "from tensorflow.keras.callbacks import ModelCheckpoint\n",
    "from sklearn.model_selection import train_test_split\n",
    "from sklearn.metrics import classification_report, average_precision_score, roc_auc_score, f1_score, accuracy_score\n",
    "import matplotlib.pyplot as plt\n",
    "import transformers as trfm\n",
    "from transformers import AutoTokenizer, TFAutoModel\n",
    "from tqdm.notebook import tqdm\n",
    "from tokenizers import BertWordPieceTokenizer"
   ]
  },
  {
   "cell_type": "markdown",
   "metadata": {},
   "source": [
    "## Helper functions"
   ]
  },
  {
   "cell_type": "code",
   "execution_count": 3,
   "metadata": {},
   "outputs": [],
   "source": [
    "def build_reranker(tokenizer, model):\n",
    "    tokenizer.enable_padding()\n",
    "    \n",
    "    def rerank(question, answers):\n",
    "        pairs = list(zip([question] * len(answers), answers))\n",
    "\n",
    "        encs = tokenizer.encode_batch(pairs)\n",
    "        input_ids = np.array([enc.ids for enc in encs])\n",
    "        scores = model.predict(input_ids).squeeze()\n",
    "\n",
    "        return scores\n",
    "    \n",
    "    return rerank"
   ]
  },
  {
   "cell_type": "code",
   "execution_count": 4,
   "metadata": {},
   "outputs": [],
   "source": [
    "def touch_dir(dirname):\n",
    "    if not os.path.exists(dirname):\n",
    "        os.makedirs(dirname)\n",
    "        print(f\"Created directory {dirname}.\")\n",
    "    else:\n",
    "        print(f\"Directory {dirname} already exists.\")"
   ]
  },
  {
   "cell_type": "code",
   "execution_count": 5,
   "metadata": {},
   "outputs": [],
   "source": [
    "def fast_encode(texts, tokenizer, chunk_size=256, maxlen=512, enable_padding=False):\n",
    "    \"\"\"\n",
    "    https://www.kaggle.com/xhlulu/jigsaw-tpu-distilbert-with-huggingface-and-keras\n",
    "    \n",
    "    ---\n",
    "    Inputs:\n",
    "        tokenizer: the `fast_tokenizer` that we imported from the tokenizers library\n",
    "    \"\"\"\n",
    "    tokenizer.enable_truncation(max_length=maxlen)\n",
    "    if enable_padding:\n",
    "        tokenizer.enable_padding(max_length=maxlen)\n",
    "    \n",
    "    all_ids = []\n",
    "    \n",
    "    for i in tqdm(range(0, len(texts), chunk_size)):\n",
    "        text_chunk = texts[i:i+chunk_size].tolist()\n",
    "        encs = tokenizer.encode_batch(text_chunk)\n",
    "        all_ids.extend([enc.ids for enc in encs])\n",
    "    \n",
    "    return np.array(all_ids)"
   ]
  },
  {
   "cell_type": "code",
   "execution_count": 6,
   "metadata": {},
   "outputs": [],
   "source": [
    "def combine_qa_ids(q_ids, a_ids, tokenizer, maxlen=512):\n",
    "    \"\"\"\n",
    "    Given two arrays of IDs (questions and answers) created by\n",
    "    `fast_encode`, we combine and pad them.\n",
    "    Inputs:\n",
    "        tokenizer: The original tokenizer (not the fast_tokenizer)\n",
    "    \"\"\"\n",
    "    combined_ids = []\n",
    "\n",
    "    for i in tqdm(range(q_ids.shape[0])):\n",
    "        ids = []\n",
    "        ids.append(tokenizer.cls_token_id)\n",
    "        ids.extend(q_ids[i])\n",
    "        ids.append(tokenizer.sep_token_id)\n",
    "        ids.extend(a_ids[i])\n",
    "        ids.append(tokenizer.sep_token_id)\n",
    "        ids.extend([tokenizer.pad_token_id] * (maxlen - len(ids)))\n",
    "\n",
    "        combined_ids.append(ids)\n",
    "    \n",
    "    return np.array(combined_ids)"
   ]
  },
  {
   "cell_type": "code",
   "execution_count": 7,
   "metadata": {},
   "outputs": [],
   "source": [
    "def encode_qa(questions, answers, tokenizer, maxlen=512):\n",
    "    \"\"\"\n",
    "    https://www.kaggle.com/xhlulu/jigsaw-tpu-distilbert-with-huggingface-and-keras\n",
    "    \"\"\"\n",
    "    tokenizer.enable_truncation(max_length=maxlen)\n",
    "    tokenizer.enable_padding(max_length=maxlen)\n",
    "    all_ids = []\n",
    "    \n",
    "    for i in tqdm(range(0, len(questions))):\n",
    "        q = questions[i]\n",
    "        a = answers[i]\n",
    "        \n",
    "        encs = tokenizer.encode(q, a)\n",
    "        all_ids.append(encs.ids)\n",
    "        if len(encs.ids) > 512:\n",
    "            return q, a\n",
    "    \n",
    "    return np.array(all_ids)"
   ]
  },
  {
   "cell_type": "code",
   "execution_count": 8,
   "metadata": {},
   "outputs": [],
   "source": [
    "def build_model(transformer, max_len=None):\n",
    "    \"\"\"\n",
    "    https://www.kaggle.com/xhlulu/jigsaw-tpu-distilbert-with-huggingface-and-keras\n",
    "    \"\"\"\n",
    "    input_ids = L.Input(shape=(max_len, ), dtype=tf.int32)\n",
    "    \n",
    "    x = transformer(input_ids)[0]\n",
    "    x = x[:, 0, :]\n",
    "    x = L.Dense(1, activation='sigmoid', name='sigmoid')(x)\n",
    "    \n",
    "    # BUILD AND COMPILE MODEL\n",
    "    model = Model(inputs=input_ids, outputs=x)\n",
    "    model.compile(\n",
    "        loss='binary_crossentropy', \n",
    "        metrics=['accuracy'], \n",
    "        optimizer=Adam(lr=1e-5)\n",
    "    )\n",
    "    \n",
    "    return model"
   ]
  },
  {
   "cell_type": "code",
   "execution_count": 9,
   "metadata": {},
   "outputs": [],
   "source": [
    "def load_model(sigmoid_dir, transformer_dir='transformer', architecture=\"electra\", max_len=None):\n",
    "    \"\"\"\n",
    "    Special function to load a keras model that uses a transformer layer\n",
    "    \"\"\"\n",
    "    sigmoid_path = os.path.join(sigmoid_dir,'sigmoid.pickle')\n",
    "    \n",
    "    if architecture == 'electra':\n",
    "        transformer = TFElectraModel.from_pretrained(transformer_dir)\n",
    "    else:\n",
    "        transformer = TFAutoModel.from_pretrained(transformer_dir)\n",
    "    model = build_model(transformer, max_len=max_len)\n",
    "    \n",
    "    sigmoid = pickle.load(open(sigmoid_path, 'rb'))\n",
    "    model.get_layer('sigmoid').set_weights(sigmoid)\n",
    "    \n",
    "    return model"
   ]
  },
  {
   "cell_type": "code",
   "execution_count": 10,
   "metadata": {},
   "outputs": [
    {
     "data": {
      "application/vnd.jupyter.widget-view+json": {
       "model_id": "b34f4486d15749bb9dca7a5fe891d061",
       "version_major": 2,
       "version_minor": 0
      },
      "text/plain": [
       "HBox(children=(FloatProgress(value=0.0, description='Downloading', max=618.0, style=ProgressStyle(description_…"
      ]
     },
     "metadata": {},
     "output_type": "display_data"
    },
    {
     "name": "stdout",
     "output_type": "stream",
     "text": [
      "\n"
     ]
    },
    {
     "data": {
      "application/vnd.jupyter.widget-view+json": {
       "model_id": "14fbdff991f148908a5a90b7526b552c",
       "version_major": 2,
       "version_minor": 0
      },
      "text/plain": [
       "HBox(children=(FloatProgress(value=0.0, description='Downloading', max=995526.0, style=ProgressStyle(descripti…"
      ]
     },
     "metadata": {},
     "output_type": "display_data"
    },
    {
     "name": "stdout",
     "output_type": "stream",
     "text": [
      "\n"
     ]
    }
   ],
   "source": [
    "tokenizer = trfm.AutoTokenizer.from_pretrained(\"distilbert-base-multilingual-cased\")\n",
    "fast_tokenizer = BertWordPieceTokenizer('/kaggle/input/finetune-mdistilbert-on-healthtap/vocab.txt', lowercase=False)"
   ]
  },
  {
   "cell_type": "markdown",
   "metadata": {},
   "source": [
    "## Load Models"
   ]
  },
  {
   "cell_type": "code",
   "execution_count": 11,
   "metadata": {},
   "outputs": [],
   "source": [
    "models = {}"
   ]
  },
  {
   "cell_type": "code",
   "execution_count": 12,
   "metadata": {},
   "outputs": [
    {
     "name": "stdout",
     "output_type": "stream",
     "text": [
      "Model: \"model\"\n",
      "_________________________________________________________________\n",
      "Layer (type)                 Output Shape              Param #   \n",
      "=================================================================\n",
      "input_1 (InputLayer)         [(None, None)]            0         \n",
      "_________________________________________________________________\n",
      "tf_distil_bert_model (TFDist ((None, None, 768),)      134734080 \n",
      "_________________________________________________________________\n",
      "tf_op_layer_strided_slice (T [(None, 768)]             0         \n",
      "_________________________________________________________________\n",
      "sigmoid (Dense)              (None, 1)                 769       \n",
      "=================================================================\n",
      "Total params: 134,734,849\n",
      "Trainable params: 134,734,849\n",
      "Non-trainable params: 0\n",
      "_________________________________________________________________\n"
     ]
    }
   ],
   "source": [
    "models['mdistilbert_ht'] = load_model(\n",
    "    sigmoid_dir='/kaggle/input/finetune-mdistilbert-on-healthtap/transformer',\n",
    "    transformer_dir='/kaggle/input/finetune-mdistilbert-on-healthtap/transformer',\n",
    "    architecture='distilbert-multilingual',\n",
    "    max_len=None\n",
    ")\n",
    "\n",
    "models['mdistilbert_ht'].summary()"
   ]
  },
  {
   "cell_type": "code",
   "execution_count": 13,
   "metadata": {},
   "outputs": [
    {
     "name": "stdout",
     "output_type": "stream",
     "text": [
      "Model: \"model_1\"\n",
      "_________________________________________________________________\n",
      "Layer (type)                 Output Shape              Param #   \n",
      "=================================================================\n",
      "input_2 (InputLayer)         [(None, None)]            0         \n",
      "_________________________________________________________________\n",
      "tf_distil_bert_model_1 (TFDi ((None, None, 768),)      134734080 \n",
      "_________________________________________________________________\n",
      "tf_op_layer_strided_slice_1  [(None, 768)]             0         \n",
      "_________________________________________________________________\n",
      "sigmoid (Dense)              (None, 1)                 769       \n",
      "=================================================================\n",
      "Total params: 134,734,849\n",
      "Trainable params: 134,734,849\n",
      "Non-trainable params: 0\n",
      "_________________________________________________________________\n"
     ]
    }
   ],
   "source": [
    "models['mdistilbert_se'] = load_model(\n",
    "    sigmoid_dir='/kaggle/input/finetune-mdistilbert-on-stackexchange/transformer',\n",
    "    transformer_dir='/kaggle/input/finetune-mdistilbert-on-stackexchange/transformer',\n",
    "    architecture='distilbert-multilingual',\n",
    "    max_len=None\n",
    ")\n",
    "\n",
    "models['mdistilbert_se'].summary()"
   ]
  },
  {
   "cell_type": "markdown",
   "metadata": {},
   "source": [
    "## Load Data"
   ]
  },
  {
   "cell_type": "code",
   "execution_count": 14,
   "metadata": {},
   "outputs": [],
   "source": [
    "MAX_LEN = 512\n",
    "\n",
    "df = pd.read_csv('/kaggle/input/covidqa/multilingual.csv')"
   ]
  },
  {
   "cell_type": "code",
   "execution_count": 15,
   "metadata": {},
   "outputs": [
    {
     "data": {
      "application/vnd.jupyter.widget-view+json": {
       "model_id": "2db06e4e1edc453e89c37a53bd839ce0",
       "version_major": 2,
       "version_minor": 0
      },
      "text/plain": [
       "HBox(children=(FloatProgress(value=0.0, max=888.0), HTML(value='')))"
      ]
     },
     "metadata": {},
     "output_type": "display_data"
    },
    {
     "name": "stdout",
     "output_type": "stream",
     "text": [
      "\n"
     ]
    },
    {
     "data": {
      "application/vnd.jupyter.widget-view+json": {
       "model_id": "cd30976d367e4b968d50e3c91b04363e",
       "version_major": 2,
       "version_minor": 0
      },
      "text/plain": [
       "HBox(children=(FloatProgress(value=0.0, max=888.0), HTML(value='')))"
      ]
     },
     "metadata": {},
     "output_type": "display_data"
    },
    {
     "name": "stdout",
     "output_type": "stream",
     "text": [
      "\n"
     ]
    }
   ],
   "source": [
    "correct_ids = encode_qa(df.question.values.astype(str), df.answer.values.astype(str), fast_tokenizer, maxlen=MAX_LEN)\n",
    "wrong_ids = encode_qa(df.question.values.astype(str), df.wrong_answer.values.astype(str), fast_tokenizer, maxlen=MAX_LEN)"
   ]
  },
  {
   "cell_type": "code",
   "execution_count": 16,
   "metadata": {},
   "outputs": [],
   "source": [
    "input_ids = np.concatenate([correct_ids, wrong_ids])\n",
    "\n",
    "labels = np.concatenate([\n",
    "    np.ones(correct_ids.shape[0]),\n",
    "    np.zeros(correct_ids.shape[0])\n",
    "]).astype(np.int32)"
   ]
  },
  {
   "cell_type": "markdown",
   "metadata": {},
   "source": [
    "## Compute Scores"
   ]
  },
  {
   "cell_type": "code",
   "execution_count": 17,
   "metadata": {},
   "outputs": [
    {
     "name": "stdout",
     "output_type": "stream",
     "text": [
      "CPU times: user 3.81 s, sys: 1.1 s, total: 4.91 s\n",
      "Wall time: 19 s\n",
      "CPU times: user 3.71 s, sys: 1.07 s, total: 4.78 s\n",
      "Wall time: 18.9 s\n"
     ]
    }
   ],
   "source": [
    "score_df = pd.concat([df[['language']]]*2)\n",
    "\n",
    "for model_name, model in models.items():\n",
    "    %time score_df[model_name] = model.predict(input_ids, batch_size=64)"
   ]
  },
  {
   "cell_type": "code",
   "execution_count": 18,
   "metadata": {},
   "outputs": [],
   "source": [
    "score_df['labels'] = labels"
   ]
  },
  {
   "cell_type": "code",
   "execution_count": 19,
   "metadata": {},
   "outputs": [],
   "source": [
    "score_df.to_csv(\"multilingual.csv\", index=False)"
   ]
  },
  {
   "cell_type": "markdown",
   "metadata": {},
   "source": [
    "## Compute Prediction Results"
   ]
  },
  {
   "cell_type": "markdown",
   "metadata": {},
   "source": [
    "### Macro-Average"
   ]
  },
  {
   "cell_type": "code",
   "execution_count": 20,
   "metadata": {},
   "outputs": [
    {
     "data": {
      "text/html": [
       "<div>\n",
       "<style scoped>\n",
       "    .dataframe tbody tr th:only-of-type {\n",
       "        vertical-align: middle;\n",
       "    }\n",
       "\n",
       "    .dataframe tbody tr th {\n",
       "        vertical-align: top;\n",
       "    }\n",
       "\n",
       "    .dataframe thead th {\n",
       "        text-align: right;\n",
       "    }\n",
       "</style>\n",
       "<table border=\"1\" class=\"dataframe\">\n",
       "  <thead>\n",
       "    <tr style=\"text-align: right;\">\n",
       "      <th></th>\n",
       "      <th>mdistilbert_ht</th>\n",
       "      <th>mdistilbert_se</th>\n",
       "    </tr>\n",
       "  </thead>\n",
       "  <tbody>\n",
       "    <tr>\n",
       "      <th>ap</th>\n",
       "      <td>0.7635</td>\n",
       "      <td>0.5611</td>\n",
       "    </tr>\n",
       "    <tr>\n",
       "      <th>roc_auc</th>\n",
       "      <td>0.7709</td>\n",
       "      <td>0.5963</td>\n",
       "    </tr>\n",
       "    <tr>\n",
       "      <th>f1_score</th>\n",
       "      <td>0.7219</td>\n",
       "      <td>0.6880</td>\n",
       "    </tr>\n",
       "    <tr>\n",
       "      <th>accuracy</th>\n",
       "      <td>0.6222</td>\n",
       "      <td>0.5501</td>\n",
       "    </tr>\n",
       "  </tbody>\n",
       "</table>\n",
       "</div>"
      ],
      "text/plain": [
       "          mdistilbert_ht  mdistilbert_se\n",
       "ap                0.7635          0.5611\n",
       "roc_auc           0.7709          0.5963\n",
       "f1_score          0.7219          0.6880\n",
       "accuracy          0.6222          0.5501"
      ]
     },
     "execution_count": 20,
     "metadata": {},
     "output_type": "execute_result"
    }
   ],
   "source": [
    "overall = {}\n",
    "\n",
    "for model_name in models.keys():\n",
    "    result = {}\n",
    "    labels = score_df['labels']\n",
    "    score = score_df[model_name]\n",
    "    pred = score.round().astype(int)\n",
    "    result['ap'] = average_precision_score(labels, score).round(4)\n",
    "    result['roc_auc'] = roc_auc_score(labels, score).round(4)\n",
    "    result['f1_score'] = f1_score(labels, pred).round(4)\n",
    "    result['accuracy'] = accuracy_score(labels, pred).round(4)\n",
    "    overall[model_name] = result\n",
    "\n",
    "overall_df = pd.DataFrame(overall)\n",
    "overall_df.to_csv(\"overall_results.csv\")\n",
    "overall_df"
   ]
  },
  {
   "cell_type": "code",
   "execution_count": 21,
   "metadata": {},
   "outputs": [
    {
     "name": "stdout",
     "output_type": "stream",
     "text": [
      "\\begin{tabular}{lrr}\n",
      "\\toprule\n",
      "{} &  mdistilbert\\_ht &  mdistilbert\\_se \\\\\n",
      "\\midrule\n",
      "ap       &          0.7635 &          0.5611 \\\\\n",
      "roc\\_auc  &          0.7709 &          0.5963 \\\\\n",
      "f1\\_score &          0.7219 &          0.6880 \\\\\n",
      "accuracy &          0.6222 &          0.5501 \\\\\n",
      "\\bottomrule\n",
      "\\end{tabular}\n",
      "\n"
     ]
    }
   ],
   "source": [
    "print(overall_df.to_latex())"
   ]
  },
  {
   "cell_type": "code",
   "execution_count": 22,
   "metadata": {
    "_kg_hide-output": true
   },
   "outputs": [
    {
     "name": "stdout",
     "output_type": "stream",
     "text": [
      "|          |   mdistilbert_ht |   mdistilbert_se |\n",
      "|:---------|-----------------:|-----------------:|\n",
      "| ap       |           0.7635 |           0.5611 |\n",
      "| roc_auc  |           0.7709 |           0.5963 |\n",
      "| f1_score |           0.7219 |           0.688  |\n",
      "| accuracy |           0.6222 |           0.5501 |\n"
     ]
    }
   ],
   "source": [
    "print(overall_df.to_markdown())"
   ]
  },
  {
   "cell_type": "markdown",
   "metadata": {},
   "source": [
    "## By source"
   ]
  },
  {
   "cell_type": "code",
   "execution_count": 23,
   "metadata": {},
   "outputs": [],
   "source": [
    "all_languages = {}\n",
    "\n",
    "for language in df.language.unique():\n",
    "    language_results = {}\n",
    "    score_language_df = score_df[score_df.language == language]\n",
    "\n",
    "    for model_name in models.keys():\n",
    "        result = {}\n",
    "        labels = score_language_df['labels']\n",
    "        score = score_language_df[model_name]\n",
    "        pred = score.round().astype(int)\n",
    "        result['ap'] = average_precision_score(labels, score).round(4)\n",
    "        result['roc_auc'] = roc_auc_score(labels, score).round(4)\n",
    "        result['f1_score'] = f1_score(labels, pred).round(4)\n",
    "        result['accuracy'] = accuracy_score(labels, pred).round(4)\n",
    "        \n",
    "        language_results[model_name] = result\n",
    "    \n",
    "    all_languages[language] = pd.DataFrame(language_results)"
   ]
  },
  {
   "cell_type": "markdown",
   "metadata": {},
   "source": [
    "### Regular output"
   ]
  },
  {
   "cell_type": "code",
   "execution_count": 24,
   "metadata": {},
   "outputs": [
    {
     "name": "stdout",
     "output_type": "stream",
     "text": [
      "chinese\n",
      "----------------------------------------\n",
      "          mdistilbert_ht  mdistilbert_se\n",
      "ap                0.8075          0.5281\n",
      "roc_auc           0.8015          0.5402\n",
      "f1_score          0.7352          0.6736\n",
      "accuracy          0.6442          0.5215\n",
      "========================================\n",
      "english\n",
      "----------------------------------------\n",
      "          mdistilbert_ht  mdistilbert_se\n",
      "ap                0.8191          0.6495\n",
      "roc_auc           0.8249          0.6598\n",
      "f1_score          0.7619          0.7081\n",
      "accuracy          0.6948          0.5901\n",
      "========================================\n",
      "korean\n",
      "----------------------------------------\n",
      "          mdistilbert_ht  mdistilbert_se\n",
      "ap                0.5926          0.5091\n",
      "roc_auc           0.5371          0.4900\n",
      "f1_score          0.6607          0.6667\n",
      "accuracy          0.5065          0.5000\n",
      "========================================\n",
      "spanish\n",
      "----------------------------------------\n",
      "          mdistilbert_ht  mdistilbert_se\n",
      "ap                0.7892          0.5546\n",
      "roc_auc           0.8089          0.6023\n",
      "f1_score          0.7494          0.7000\n",
      "accuracy          0.6698          0.5741\n",
      "========================================\n",
      "vietnamese\n",
      "----------------------------------------\n",
      "          mdistilbert_ht  mdistilbert_se\n",
      "ap                0.6264          0.5994\n",
      "roc_auc           0.6650          0.6200\n",
      "f1_score          0.6814          0.6725\n",
      "accuracy          0.5325          0.5130\n",
      "========================================\n",
      "arabic\n",
      "----------------------------------------\n",
      "          mdistilbert_ht  mdistilbert_se\n",
      "ap                0.7339          0.5669\n",
      "roc_auc           0.7659          0.5803\n",
      "f1_score          0.6908          0.6772\n",
      "accuracy          0.5575          0.5287\n",
      "========================================\n",
      "french\n",
      "----------------------------------------\n",
      "          mdistilbert_ht  mdistilbert_se\n",
      "ap                0.8605          0.5876\n",
      "roc_auc           0.8494          0.6328\n",
      "f1_score          0.7304          0.7064\n",
      "accuracy          0.6353          0.5941\n",
      "========================================\n",
      "russian\n",
      "----------------------------------------\n",
      "          mdistilbert_ht  mdistilbert_se\n",
      "ap                0.7951          0.4844\n",
      "roc_auc           0.7680          0.5198\n",
      "f1_score          0.6854          0.6806\n",
      "accuracy          0.5692          0.5308\n",
      "========================================\n"
     ]
    }
   ],
   "source": [
    "for language, sdf in all_languages.items():\n",
    "    print(language)\n",
    "    print('-'*40)\n",
    "    print(sdf)\n",
    "    print('='*40)"
   ]
  },
  {
   "cell_type": "markdown",
   "metadata": {},
   "source": [
    "### Latex output"
   ]
  },
  {
   "cell_type": "code",
   "execution_count": 25,
   "metadata": {
    "_kg_hide-output": true
   },
   "outputs": [
    {
     "name": "stdout",
     "output_type": "stream",
     "text": [
      "chinese\n",
      "----------------------------------------\n",
      "\\begin{tabular}{lrr}\n",
      "\\toprule\n",
      "{} &  mdistilbert\\_ht &  mdistilbert\\_se \\\\\n",
      "\\midrule\n",
      "ap       &          0.8075 &          0.5281 \\\\\n",
      "roc\\_auc  &          0.8015 &          0.5402 \\\\\n",
      "f1\\_score &          0.7352 &          0.6736 \\\\\n",
      "accuracy &          0.6442 &          0.5215 \\\\\n",
      "\\bottomrule\n",
      "\\end{tabular}\n",
      "\n",
      "========================================\n",
      "english\n",
      "----------------------------------------\n",
      "\\begin{tabular}{lrr}\n",
      "\\toprule\n",
      "{} &  mdistilbert\\_ht &  mdistilbert\\_se \\\\\n",
      "\\midrule\n",
      "ap       &          0.8191 &          0.6495 \\\\\n",
      "roc\\_auc  &          0.8249 &          0.6598 \\\\\n",
      "f1\\_score &          0.7619 &          0.7081 \\\\\n",
      "accuracy &          0.6948 &          0.5901 \\\\\n",
      "\\bottomrule\n",
      "\\end{tabular}\n",
      "\n",
      "========================================\n",
      "korean\n",
      "----------------------------------------\n",
      "\\begin{tabular}{lrr}\n",
      "\\toprule\n",
      "{} &  mdistilbert\\_ht &  mdistilbert\\_se \\\\\n",
      "\\midrule\n",
      "ap       &          0.5926 &          0.5091 \\\\\n",
      "roc\\_auc  &          0.5371 &          0.4900 \\\\\n",
      "f1\\_score &          0.6607 &          0.6667 \\\\\n",
      "accuracy &          0.5065 &          0.5000 \\\\\n",
      "\\bottomrule\n",
      "\\end{tabular}\n",
      "\n",
      "========================================\n",
      "spanish\n",
      "----------------------------------------\n",
      "\\begin{tabular}{lrr}\n",
      "\\toprule\n",
      "{} &  mdistilbert\\_ht &  mdistilbert\\_se \\\\\n",
      "\\midrule\n",
      "ap       &          0.7892 &          0.5546 \\\\\n",
      "roc\\_auc  &          0.8089 &          0.6023 \\\\\n",
      "f1\\_score &          0.7494 &          0.7000 \\\\\n",
      "accuracy &          0.6698 &          0.5741 \\\\\n",
      "\\bottomrule\n",
      "\\end{tabular}\n",
      "\n",
      "========================================\n",
      "vietnamese\n",
      "----------------------------------------\n",
      "\\begin{tabular}{lrr}\n",
      "\\toprule\n",
      "{} &  mdistilbert\\_ht &  mdistilbert\\_se \\\\\n",
      "\\midrule\n",
      "ap       &          0.6264 &          0.5994 \\\\\n",
      "roc\\_auc  &          0.6650 &          0.6200 \\\\\n",
      "f1\\_score &          0.6814 &          0.6725 \\\\\n",
      "accuracy &          0.5325 &          0.5130 \\\\\n",
      "\\bottomrule\n",
      "\\end{tabular}\n",
      "\n",
      "========================================\n",
      "arabic\n",
      "----------------------------------------\n",
      "\\begin{tabular}{lrr}\n",
      "\\toprule\n",
      "{} &  mdistilbert\\_ht &  mdistilbert\\_se \\\\\n",
      "\\midrule\n",
      "ap       &          0.7339 &          0.5669 \\\\\n",
      "roc\\_auc  &          0.7659 &          0.5803 \\\\\n",
      "f1\\_score &          0.6908 &          0.6772 \\\\\n",
      "accuracy &          0.5575 &          0.5287 \\\\\n",
      "\\bottomrule\n",
      "\\end{tabular}\n",
      "\n",
      "========================================\n",
      "french\n",
      "----------------------------------------\n",
      "\\begin{tabular}{lrr}\n",
      "\\toprule\n",
      "{} &  mdistilbert\\_ht &  mdistilbert\\_se \\\\\n",
      "\\midrule\n",
      "ap       &          0.8605 &          0.5876 \\\\\n",
      "roc\\_auc  &          0.8494 &          0.6328 \\\\\n",
      "f1\\_score &          0.7304 &          0.7064 \\\\\n",
      "accuracy &          0.6353 &          0.5941 \\\\\n",
      "\\bottomrule\n",
      "\\end{tabular}\n",
      "\n",
      "========================================\n",
      "russian\n",
      "----------------------------------------\n",
      "\\begin{tabular}{lrr}\n",
      "\\toprule\n",
      "{} &  mdistilbert\\_ht &  mdistilbert\\_se \\\\\n",
      "\\midrule\n",
      "ap       &          0.7951 &          0.4844 \\\\\n",
      "roc\\_auc  &          0.7680 &          0.5198 \\\\\n",
      "f1\\_score &          0.6854 &          0.6806 \\\\\n",
      "accuracy &          0.5692 &          0.5308 \\\\\n",
      "\\bottomrule\n",
      "\\end{tabular}\n",
      "\n",
      "========================================\n"
     ]
    }
   ],
   "source": [
    "for language, sdf in all_languages.items():\n",
    "    print(language)\n",
    "    print('-'*40)\n",
    "    print(sdf.to_latex())\n",
    "    print('='*40)"
   ]
  },
  {
   "cell_type": "markdown",
   "metadata": {},
   "source": [
    "### Markdown output"
   ]
  },
  {
   "cell_type": "code",
   "execution_count": 26,
   "metadata": {
    "_kg_hide-output": true
   },
   "outputs": [
    {
     "name": "stdout",
     "output_type": "stream",
     "text": [
      "chinese\n",
      "----------------------------------------\n",
      "|          |   mdistilbert_ht |   mdistilbert_se |\n",
      "|:---------|-----------------:|-----------------:|\n",
      "| ap       |           0.8075 |           0.5281 |\n",
      "| roc_auc  |           0.8015 |           0.5402 |\n",
      "| f1_score |           0.7352 |           0.6736 |\n",
      "| accuracy |           0.6442 |           0.5215 |\n",
      "========================================\n",
      "english\n",
      "----------------------------------------\n",
      "|          |   mdistilbert_ht |   mdistilbert_se |\n",
      "|:---------|-----------------:|-----------------:|\n",
      "| ap       |           0.8191 |           0.6495 |\n",
      "| roc_auc  |           0.8249 |           0.6598 |\n",
      "| f1_score |           0.7619 |           0.7081 |\n",
      "| accuracy |           0.6948 |           0.5901 |\n",
      "========================================\n",
      "korean\n",
      "----------------------------------------\n",
      "|          |   mdistilbert_ht |   mdistilbert_se |\n",
      "|:---------|-----------------:|-----------------:|\n",
      "| ap       |           0.5926 |           0.5091 |\n",
      "| roc_auc  |           0.5371 |           0.49   |\n",
      "| f1_score |           0.6607 |           0.6667 |\n",
      "| accuracy |           0.5065 |           0.5    |\n",
      "========================================\n",
      "spanish\n",
      "----------------------------------------\n",
      "|          |   mdistilbert_ht |   mdistilbert_se |\n",
      "|:---------|-----------------:|-----------------:|\n",
      "| ap       |           0.7892 |           0.5546 |\n",
      "| roc_auc  |           0.8089 |           0.6023 |\n",
      "| f1_score |           0.7494 |           0.7    |\n",
      "| accuracy |           0.6698 |           0.5741 |\n",
      "========================================\n",
      "vietnamese\n",
      "----------------------------------------\n",
      "|          |   mdistilbert_ht |   mdistilbert_se |\n",
      "|:---------|-----------------:|-----------------:|\n",
      "| ap       |           0.6264 |           0.5994 |\n",
      "| roc_auc  |           0.665  |           0.62   |\n",
      "| f1_score |           0.6814 |           0.6725 |\n",
      "| accuracy |           0.5325 |           0.513  |\n",
      "========================================\n",
      "arabic\n",
      "----------------------------------------\n",
      "|          |   mdistilbert_ht |   mdistilbert_se |\n",
      "|:---------|-----------------:|-----------------:|\n",
      "| ap       |           0.7339 |           0.5669 |\n",
      "| roc_auc  |           0.7659 |           0.5803 |\n",
      "| f1_score |           0.6908 |           0.6772 |\n",
      "| accuracy |           0.5575 |           0.5287 |\n",
      "========================================\n",
      "french\n",
      "----------------------------------------\n",
      "|          |   mdistilbert_ht |   mdistilbert_se |\n",
      "|:---------|-----------------:|-----------------:|\n",
      "| ap       |           0.8605 |           0.5876 |\n",
      "| roc_auc  |           0.8494 |           0.6328 |\n",
      "| f1_score |           0.7304 |           0.7064 |\n",
      "| accuracy |           0.6353 |           0.5941 |\n",
      "========================================\n",
      "russian\n",
      "----------------------------------------\n",
      "|          |   mdistilbert_ht |   mdistilbert_se |\n",
      "|:---------|-----------------:|-----------------:|\n",
      "| ap       |           0.7951 |           0.4844 |\n",
      "| roc_auc  |           0.768  |           0.5198 |\n",
      "| f1_score |           0.6854 |           0.6806 |\n",
      "| accuracy |           0.5692 |           0.5308 |\n",
      "========================================\n"
     ]
    }
   ],
   "source": [
    "for language, sdf in all_languages.items():\n",
    "    print(language)\n",
    "    print('-'*40)\n",
    "    print(sdf.to_markdown())\n",
    "    print('='*40)"
   ]
  },
  {
   "cell_type": "markdown",
   "metadata": {},
   "source": [
    "## AP Score by source"
   ]
  },
  {
   "cell_type": "code",
   "execution_count": 27,
   "metadata": {},
   "outputs": [
    {
     "data": {
      "text/html": [
       "<div>\n",
       "<style scoped>\n",
       "    .dataframe tbody tr th:only-of-type {\n",
       "        vertical-align: middle;\n",
       "    }\n",
       "\n",
       "    .dataframe tbody tr th {\n",
       "        vertical-align: top;\n",
       "    }\n",
       "\n",
       "    .dataframe thead th {\n",
       "        text-align: right;\n",
       "    }\n",
       "</style>\n",
       "<table border=\"1\" class=\"dataframe\">\n",
       "  <thead>\n",
       "    <tr style=\"text-align: right;\">\n",
       "      <th></th>\n",
       "      <th>mdistilbert_ht</th>\n",
       "      <th>mdistilbert_se</th>\n",
       "    </tr>\n",
       "  </thead>\n",
       "  <tbody>\n",
       "    <tr>\n",
       "      <th>chinese</th>\n",
       "      <td>0.8075</td>\n",
       "      <td>0.5281</td>\n",
       "    </tr>\n",
       "    <tr>\n",
       "      <th>english</th>\n",
       "      <td>0.8191</td>\n",
       "      <td>0.6495</td>\n",
       "    </tr>\n",
       "    <tr>\n",
       "      <th>korean</th>\n",
       "      <td>0.5926</td>\n",
       "      <td>0.5091</td>\n",
       "    </tr>\n",
       "    <tr>\n",
       "      <th>spanish</th>\n",
       "      <td>0.7892</td>\n",
       "      <td>0.5546</td>\n",
       "    </tr>\n",
       "    <tr>\n",
       "      <th>vietnamese</th>\n",
       "      <td>0.6264</td>\n",
       "      <td>0.5994</td>\n",
       "    </tr>\n",
       "    <tr>\n",
       "      <th>arabic</th>\n",
       "      <td>0.7339</td>\n",
       "      <td>0.5669</td>\n",
       "    </tr>\n",
       "    <tr>\n",
       "      <th>french</th>\n",
       "      <td>0.8605</td>\n",
       "      <td>0.5876</td>\n",
       "    </tr>\n",
       "    <tr>\n",
       "      <th>russian</th>\n",
       "      <td>0.7951</td>\n",
       "      <td>0.4844</td>\n",
       "    </tr>\n",
       "  </tbody>\n",
       "</table>\n",
       "</div>"
      ],
      "text/plain": [
       "            mdistilbert_ht  mdistilbert_se\n",
       "chinese             0.8075          0.5281\n",
       "english             0.8191          0.6495\n",
       "korean              0.5926          0.5091\n",
       "spanish             0.7892          0.5546\n",
       "vietnamese          0.6264          0.5994\n",
       "arabic              0.7339          0.5669\n",
       "french              0.8605          0.5876\n",
       "russian             0.7951          0.4844"
      ]
     },
     "execution_count": 27,
     "metadata": {},
     "output_type": "execute_result"
    }
   ],
   "source": [
    "ap_df = pd.DataFrame({language: sdf.loc['ap'] for language, sdf in all_languages.items()}).T\n",
    "ap_df"
   ]
  },
  {
   "cell_type": "code",
   "execution_count": 28,
   "metadata": {
    "_kg_hide-output": true
   },
   "outputs": [
    {
     "name": "stdout",
     "output_type": "stream",
     "text": [
      "\\begin{tabular}{lrr}\n",
      "\\toprule\n",
      "{} &  mdistilbert\\_ht &  mdistilbert\\_se \\\\\n",
      "\\midrule\n",
      "chinese    &          0.8075 &          0.5281 \\\\\n",
      "english    &          0.8191 &          0.6495 \\\\\n",
      "korean     &          0.5926 &          0.5091 \\\\\n",
      "spanish    &          0.7892 &          0.5546 \\\\\n",
      "vietnamese &          0.6264 &          0.5994 \\\\\n",
      "arabic     &          0.7339 &          0.5669 \\\\\n",
      "french     &          0.8605 &          0.5876 \\\\\n",
      "russian    &          0.7951 &          0.4844 \\\\\n",
      "\\bottomrule\n",
      "\\end{tabular}\n",
      "\n"
     ]
    }
   ],
   "source": [
    "print(ap_df.to_latex())"
   ]
  },
  {
   "cell_type": "code",
   "execution_count": 29,
   "metadata": {
    "_kg_hide-output": true
   },
   "outputs": [
    {
     "name": "stdout",
     "output_type": "stream",
     "text": [
      "|            |   mdistilbert_ht |   mdistilbert_se |\n",
      "|:-----------|-----------------:|-----------------:|\n",
      "| chinese    |           0.8075 |           0.5281 |\n",
      "| english    |           0.8191 |           0.6495 |\n",
      "| korean     |           0.5926 |           0.5091 |\n",
      "| spanish    |           0.7892 |           0.5546 |\n",
      "| vietnamese |           0.6264 |           0.5994 |\n",
      "| arabic     |           0.7339 |           0.5669 |\n",
      "| french     |           0.8605 |           0.5876 |\n",
      "| russian    |           0.7951 |           0.4844 |\n"
     ]
    }
   ],
   "source": [
    "print(ap_df.to_markdown())"
   ]
  },
  {
   "cell_type": "markdown",
   "metadata": {},
   "source": [
    "## Micro Scores"
   ]
  },
  {
   "cell_type": "code",
   "execution_count": 30,
   "metadata": {},
   "outputs": [
    {
     "data": {
      "text/html": [
       "<div>\n",
       "<style scoped>\n",
       "    .dataframe tbody tr th:only-of-type {\n",
       "        vertical-align: middle;\n",
       "    }\n",
       "\n",
       "    .dataframe tbody tr th {\n",
       "        vertical-align: top;\n",
       "    }\n",
       "\n",
       "    .dataframe thead th {\n",
       "        text-align: right;\n",
       "    }\n",
       "</style>\n",
       "<table border=\"1\" class=\"dataframe\">\n",
       "  <thead>\n",
       "    <tr style=\"text-align: right;\">\n",
       "      <th></th>\n",
       "      <th>mdistilbert_ht</th>\n",
       "      <th>mdistilbert_se</th>\n",
       "    </tr>\n",
       "  </thead>\n",
       "  <tbody>\n",
       "    <tr>\n",
       "      <th>ap</th>\n",
       "      <td>0.7530</td>\n",
       "      <td>0.5600</td>\n",
       "    </tr>\n",
       "    <tr>\n",
       "      <th>roc_auc</th>\n",
       "      <td>0.7526</td>\n",
       "      <td>0.5807</td>\n",
       "    </tr>\n",
       "    <tr>\n",
       "      <th>f1_score</th>\n",
       "      <td>0.7119</td>\n",
       "      <td>0.6856</td>\n",
       "    </tr>\n",
       "    <tr>\n",
       "      <th>accuracy</th>\n",
       "      <td>0.6012</td>\n",
       "      <td>0.5440</td>\n",
       "    </tr>\n",
       "  </tbody>\n",
       "</table>\n",
       "</div>"
      ],
      "text/plain": [
       "          mdistilbert_ht  mdistilbert_se\n",
       "ap                0.7530          0.5600\n",
       "roc_auc           0.7526          0.5807\n",
       "f1_score          0.7119          0.6856\n",
       "accuracy          0.6012          0.5440"
      ]
     },
     "execution_count": 30,
     "metadata": {},
     "output_type": "execute_result"
    }
   ],
   "source": [
    "micro_df = (sum(all_languages.values()) / len(all_languages)).round(4)\n",
    "micro_df"
   ]
  },
  {
   "cell_type": "code",
   "execution_count": 31,
   "metadata": {
    "_kg_hide-output": true
   },
   "outputs": [
    {
     "name": "stdout",
     "output_type": "stream",
     "text": [
      "\\begin{tabular}{lrr}\n",
      "\\toprule\n",
      "{} &  mdistilbert\\_ht &  mdistilbert\\_se \\\\\n",
      "\\midrule\n",
      "ap       &          0.7530 &          0.5600 \\\\\n",
      "roc\\_auc  &          0.7526 &          0.5807 \\\\\n",
      "f1\\_score &          0.7119 &          0.6856 \\\\\n",
      "accuracy &          0.6012 &          0.5440 \\\\\n",
      "\\bottomrule\n",
      "\\end{tabular}\n",
      "\n"
     ]
    }
   ],
   "source": [
    "print(micro_df.to_latex())"
   ]
  },
  {
   "cell_type": "code",
   "execution_count": 32,
   "metadata": {
    "_kg_hide-output": true
   },
   "outputs": [
    {
     "name": "stdout",
     "output_type": "stream",
     "text": [
      "|          |   mdistilbert_ht |   mdistilbert_se |\n",
      "|:---------|-----------------:|-----------------:|\n",
      "| ap       |           0.753  |           0.56   |\n",
      "| roc_auc  |           0.7526 |           0.5807 |\n",
      "| f1_score |           0.7119 |           0.6856 |\n",
      "| accuracy |           0.6012 |           0.544  |\n"
     ]
    }
   ],
   "source": [
    "print(micro_df.to_markdown())"
   ]
  }
 ],
 "metadata": {
  "kernelspec": {
   "display_name": "Python 3",
   "language": "python",
   "name": "python3"
  },
  "language_info": {
   "codemirror_mode": {
    "name": "ipython",
    "version": 3
   },
   "file_extension": ".py",
   "mimetype": "text/x-python",
   "name": "python",
   "nbconvert_exporter": "python",
   "pygments_lexer": "ipython3",
   "version": "3.6.6"
  },
  "widgets": {
   "application/vnd.jupyter.widget-state+json": {
    "state": {
     "02b50b2961d3468f9804c07db52c870b": {
      "model_module": "@jupyter-widgets/controls",
      "model_module_version": "1.5.0",
      "model_name": "DescriptionStyleModel",
      "state": {
       "_model_module": "@jupyter-widgets/controls",
       "_model_module_version": "1.5.0",
       "_model_name": "DescriptionStyleModel",
       "_view_count": null,
       "_view_module": "@jupyter-widgets/base",
       "_view_module_version": "1.2.0",
       "_view_name": "StyleView",
       "description_width": ""
      }
     },
     "13353169e11848f48e76da0dbbcd473b": {
      "model_module": "@jupyter-widgets/controls",
      "model_module_version": "1.5.0",
      "model_name": "HTMLModel",
      "state": {
       "_dom_classes": [],
       "_model_module": "@jupyter-widgets/controls",
       "_model_module_version": "1.5.0",
       "_model_name": "HTMLModel",
       "_view_count": null,
       "_view_module": "@jupyter-widgets/controls",
       "_view_module_version": "1.5.0",
       "_view_name": "HTMLView",
       "description": "",
       "description_tooltip": null,
       "layout": "IPY_MODEL_4ad708483c994b0a93b45f43fb9bcbbc",
       "placeholder": "​",
       "style": "IPY_MODEL_7c37589a73f84eb38376f6cbba260742",
       "value": " 888/888 [00:01&lt;00:00, 559.47it/s]"
      }
     },
     "14fbdff991f148908a5a90b7526b552c": {
      "model_module": "@jupyter-widgets/controls",
      "model_module_version": "1.5.0",
      "model_name": "HBoxModel",
      "state": {
       "_dom_classes": [],
       "_model_module": "@jupyter-widgets/controls",
       "_model_module_version": "1.5.0",
       "_model_name": "HBoxModel",
       "_view_count": null,
       "_view_module": "@jupyter-widgets/controls",
       "_view_module_version": "1.5.0",
       "_view_name": "HBoxView",
       "box_style": "",
       "children": [
        "IPY_MODEL_722e5d2d9bd647918999599bfd3785b8",
        "IPY_MODEL_174bc9d05ab94cc6a81d4fe66bc26e52"
       ],
       "layout": "IPY_MODEL_b1d58f306d6940548a4306588206f919"
      }
     },
     "174bc9d05ab94cc6a81d4fe66bc26e52": {
      "model_module": "@jupyter-widgets/controls",
      "model_module_version": "1.5.0",
      "model_name": "HTMLModel",
      "state": {
       "_dom_classes": [],
       "_model_module": "@jupyter-widgets/controls",
       "_model_module_version": "1.5.0",
       "_model_name": "HTMLModel",
       "_view_count": null,
       "_view_module": "@jupyter-widgets/controls",
       "_view_module_version": "1.5.0",
       "_view_name": "HTMLView",
       "description": "",
       "description_tooltip": null,
       "layout": "IPY_MODEL_de41aeeba40f40259d097ef1dfa00194",
       "placeholder": "​",
       "style": "IPY_MODEL_67383d79c52e4a54939b055de916b97e",
       "value": " 996k/996k [00:01&lt;00:00, 802kB/s]"
      }
     },
     "1b982c1266564b7fb52b51fc90e1f78c": {
      "model_module": "@jupyter-widgets/base",
      "model_module_version": "1.2.0",
      "model_name": "LayoutModel",
      "state": {
       "_model_module": "@jupyter-widgets/base",
       "_model_module_version": "1.2.0",
       "_model_name": "LayoutModel",
       "_view_count": null,
       "_view_module": "@jupyter-widgets/base",
       "_view_module_version": "1.2.0",
       "_view_name": "LayoutView",
       "align_content": null,
       "align_items": null,
       "align_self": null,
       "border": null,
       "bottom": null,
       "display": null,
       "flex": null,
       "flex_flow": null,
       "grid_area": null,
       "grid_auto_columns": null,
       "grid_auto_flow": null,
       "grid_auto_rows": null,
       "grid_column": null,
       "grid_gap": null,
       "grid_row": null,
       "grid_template_areas": null,
       "grid_template_columns": null,
       "grid_template_rows": null,
       "height": null,
       "justify_content": null,
       "justify_items": null,
       "left": null,
       "margin": null,
       "max_height": null,
       "max_width": null,
       "min_height": null,
       "min_width": null,
       "object_fit": null,
       "object_position": null,
       "order": null,
       "overflow": null,
       "overflow_x": null,
       "overflow_y": null,
       "padding": null,
       "right": null,
       "top": null,
       "visibility": null,
       "width": null
      }
     },
     "20272958f54c4363b2c567c8bd2bf940": {
      "model_module": "@jupyter-widgets/controls",
      "model_module_version": "1.5.0",
      "model_name": "ProgressStyleModel",
      "state": {
       "_model_module": "@jupyter-widgets/controls",
       "_model_module_version": "1.5.0",
       "_model_name": "ProgressStyleModel",
       "_view_count": null,
       "_view_module": "@jupyter-widgets/base",
       "_view_module_version": "1.2.0",
       "_view_name": "StyleView",
       "bar_color": null,
       "description_width": "initial"
      }
     },
     "2db06e4e1edc453e89c37a53bd839ce0": {
      "model_module": "@jupyter-widgets/controls",
      "model_module_version": "1.5.0",
      "model_name": "HBoxModel",
      "state": {
       "_dom_classes": [],
       "_model_module": "@jupyter-widgets/controls",
       "_model_module_version": "1.5.0",
       "_model_name": "HBoxModel",
       "_view_count": null,
       "_view_module": "@jupyter-widgets/controls",
       "_view_module_version": "1.5.0",
       "_view_name": "HBoxView",
       "box_style": "",
       "children": [
        "IPY_MODEL_fb0fc09254054a2289af530b7a79df4f",
        "IPY_MODEL_13353169e11848f48e76da0dbbcd473b"
       ],
       "layout": "IPY_MODEL_b850f9d8d5484c4082c8f629582e80ee"
      }
     },
     "34ee0496aa2e4d0cbb1a45864873f911": {
      "model_module": "@jupyter-widgets/controls",
      "model_module_version": "1.5.0",
      "model_name": "HTMLModel",
      "state": {
       "_dom_classes": [],
       "_model_module": "@jupyter-widgets/controls",
       "_model_module_version": "1.5.0",
       "_model_name": "HTMLModel",
       "_view_count": null,
       "_view_module": "@jupyter-widgets/controls",
       "_view_module_version": "1.5.0",
       "_view_name": "HTMLView",
       "description": "",
       "description_tooltip": null,
       "layout": "IPY_MODEL_1b982c1266564b7fb52b51fc90e1f78c",
       "placeholder": "​",
       "style": "IPY_MODEL_7c83f989517c4f79a822fde868027d28",
       "value": " 618/618 [00:16&lt;00:00, 37.8B/s]"
      }
     },
     "427dee15883e41609c9f094eb4a0d319": {
      "model_module": "@jupyter-widgets/base",
      "model_module_version": "1.2.0",
      "model_name": "LayoutModel",
      "state": {
       "_model_module": "@jupyter-widgets/base",
       "_model_module_version": "1.2.0",
       "_model_name": "LayoutModel",
       "_view_count": null,
       "_view_module": "@jupyter-widgets/base",
       "_view_module_version": "1.2.0",
       "_view_name": "LayoutView",
       "align_content": null,
       "align_items": null,
       "align_self": null,
       "border": null,
       "bottom": null,
       "display": null,
       "flex": null,
       "flex_flow": null,
       "grid_area": null,
       "grid_auto_columns": null,
       "grid_auto_flow": null,
       "grid_auto_rows": null,
       "grid_column": null,
       "grid_gap": null,
       "grid_row": null,
       "grid_template_areas": null,
       "grid_template_columns": null,
       "grid_template_rows": null,
       "height": null,
       "justify_content": null,
       "justify_items": null,
       "left": null,
       "margin": null,
       "max_height": null,
       "max_width": null,
       "min_height": null,
       "min_width": null,
       "object_fit": null,
       "object_position": null,
       "order": null,
       "overflow": null,
       "overflow_x": null,
       "overflow_y": null,
       "padding": null,
       "right": null,
       "top": null,
       "visibility": null,
       "width": null
      }
     },
     "4478b00f84b74376987081c71af859ee": {
      "model_module": "@jupyter-widgets/controls",
      "model_module_version": "1.5.0",
      "model_name": "HTMLModel",
      "state": {
       "_dom_classes": [],
       "_model_module": "@jupyter-widgets/controls",
       "_model_module_version": "1.5.0",
       "_model_name": "HTMLModel",
       "_view_count": null,
       "_view_module": "@jupyter-widgets/controls",
       "_view_module_version": "1.5.0",
       "_view_name": "HTMLView",
       "description": "",
       "description_tooltip": null,
       "layout": "IPY_MODEL_8e13064d34534e92a680206fa928f7dd",
       "placeholder": "​",
       "style": "IPY_MODEL_02b50b2961d3468f9804c07db52c870b",
       "value": " 888/888 [00:00&lt;00:00, 973.00it/s]"
      }
     },
     "4ad708483c994b0a93b45f43fb9bcbbc": {
      "model_module": "@jupyter-widgets/base",
      "model_module_version": "1.2.0",
      "model_name": "LayoutModel",
      "state": {
       "_model_module": "@jupyter-widgets/base",
       "_model_module_version": "1.2.0",
       "_model_name": "LayoutModel",
       "_view_count": null,
       "_view_module": "@jupyter-widgets/base",
       "_view_module_version": "1.2.0",
       "_view_name": "LayoutView",
       "align_content": null,
       "align_items": null,
       "align_self": null,
       "border": null,
       "bottom": null,
       "display": null,
       "flex": null,
       "flex_flow": null,
       "grid_area": null,
       "grid_auto_columns": null,
       "grid_auto_flow": null,
       "grid_auto_rows": null,
       "grid_column": null,
       "grid_gap": null,
       "grid_row": null,
       "grid_template_areas": null,
       "grid_template_columns": null,
       "grid_template_rows": null,
       "height": null,
       "justify_content": null,
       "justify_items": null,
       "left": null,
       "margin": null,
       "max_height": null,
       "max_width": null,
       "min_height": null,
       "min_width": null,
       "object_fit": null,
       "object_position": null,
       "order": null,
       "overflow": null,
       "overflow_x": null,
       "overflow_y": null,
       "padding": null,
       "right": null,
       "top": null,
       "visibility": null,
       "width": null
      }
     },
     "60b031a5c95e445daa113642c6bad91f": {
      "model_module": "@jupyter-widgets/base",
      "model_module_version": "1.2.0",
      "model_name": "LayoutModel",
      "state": {
       "_model_module": "@jupyter-widgets/base",
       "_model_module_version": "1.2.0",
       "_model_name": "LayoutModel",
       "_view_count": null,
       "_view_module": "@jupyter-widgets/base",
       "_view_module_version": "1.2.0",
       "_view_name": "LayoutView",
       "align_content": null,
       "align_items": null,
       "align_self": null,
       "border": null,
       "bottom": null,
       "display": null,
       "flex": null,
       "flex_flow": null,
       "grid_area": null,
       "grid_auto_columns": null,
       "grid_auto_flow": null,
       "grid_auto_rows": null,
       "grid_column": null,
       "grid_gap": null,
       "grid_row": null,
       "grid_template_areas": null,
       "grid_template_columns": null,
       "grid_template_rows": null,
       "height": null,
       "justify_content": null,
       "justify_items": null,
       "left": null,
       "margin": null,
       "max_height": null,
       "max_width": null,
       "min_height": null,
       "min_width": null,
       "object_fit": null,
       "object_position": null,
       "order": null,
       "overflow": null,
       "overflow_x": null,
       "overflow_y": null,
       "padding": null,
       "right": null,
       "top": null,
       "visibility": null,
       "width": null
      }
     },
     "67383d79c52e4a54939b055de916b97e": {
      "model_module": "@jupyter-widgets/controls",
      "model_module_version": "1.5.0",
      "model_name": "DescriptionStyleModel",
      "state": {
       "_model_module": "@jupyter-widgets/controls",
       "_model_module_version": "1.5.0",
       "_model_name": "DescriptionStyleModel",
       "_view_count": null,
       "_view_module": "@jupyter-widgets/base",
       "_view_module_version": "1.2.0",
       "_view_name": "StyleView",
       "description_width": ""
      }
     },
     "722e5d2d9bd647918999599bfd3785b8": {
      "model_module": "@jupyter-widgets/controls",
      "model_module_version": "1.5.0",
      "model_name": "FloatProgressModel",
      "state": {
       "_dom_classes": [],
       "_model_module": "@jupyter-widgets/controls",
       "_model_module_version": "1.5.0",
       "_model_name": "FloatProgressModel",
       "_view_count": null,
       "_view_module": "@jupyter-widgets/controls",
       "_view_module_version": "1.5.0",
       "_view_name": "ProgressView",
       "bar_style": "success",
       "description": "Downloading: 100%",
       "description_tooltip": null,
       "layout": "IPY_MODEL_c7946ab58a5345738f921185a6345ada",
       "max": 995526.0,
       "min": 0.0,
       "orientation": "horizontal",
       "style": "IPY_MODEL_20272958f54c4363b2c567c8bd2bf940",
       "value": 995526.0
      }
     },
     "7a3d9c692935458bb1c216e644b3641a": {
      "model_module": "@jupyter-widgets/base",
      "model_module_version": "1.2.0",
      "model_name": "LayoutModel",
      "state": {
       "_model_module": "@jupyter-widgets/base",
       "_model_module_version": "1.2.0",
       "_model_name": "LayoutModel",
       "_view_count": null,
       "_view_module": "@jupyter-widgets/base",
       "_view_module_version": "1.2.0",
       "_view_name": "LayoutView",
       "align_content": null,
       "align_items": null,
       "align_self": null,
       "border": null,
       "bottom": null,
       "display": null,
       "flex": null,
       "flex_flow": null,
       "grid_area": null,
       "grid_auto_columns": null,
       "grid_auto_flow": null,
       "grid_auto_rows": null,
       "grid_column": null,
       "grid_gap": null,
       "grid_row": null,
       "grid_template_areas": null,
       "grid_template_columns": null,
       "grid_template_rows": null,
       "height": null,
       "justify_content": null,
       "justify_items": null,
       "left": null,
       "margin": null,
       "max_height": null,
       "max_width": null,
       "min_height": null,
       "min_width": null,
       "object_fit": null,
       "object_position": null,
       "order": null,
       "overflow": null,
       "overflow_x": null,
       "overflow_y": null,
       "padding": null,
       "right": null,
       "top": null,
       "visibility": null,
       "width": null
      }
     },
     "7b0cf14ae4254e2ab9cdb9d1bc7a9c53": {
      "model_module": "@jupyter-widgets/controls",
      "model_module_version": "1.5.0",
      "model_name": "ProgressStyleModel",
      "state": {
       "_model_module": "@jupyter-widgets/controls",
       "_model_module_version": "1.5.0",
       "_model_name": "ProgressStyleModel",
       "_view_count": null,
       "_view_module": "@jupyter-widgets/base",
       "_view_module_version": "1.2.0",
       "_view_name": "StyleView",
       "bar_color": null,
       "description_width": "initial"
      }
     },
     "7c37589a73f84eb38376f6cbba260742": {
      "model_module": "@jupyter-widgets/controls",
      "model_module_version": "1.5.0",
      "model_name": "DescriptionStyleModel",
      "state": {
       "_model_module": "@jupyter-widgets/controls",
       "_model_module_version": "1.5.0",
       "_model_name": "DescriptionStyleModel",
       "_view_count": null,
       "_view_module": "@jupyter-widgets/base",
       "_view_module_version": "1.2.0",
       "_view_name": "StyleView",
       "description_width": ""
      }
     },
     "7c83f989517c4f79a822fde868027d28": {
      "model_module": "@jupyter-widgets/controls",
      "model_module_version": "1.5.0",
      "model_name": "DescriptionStyleModel",
      "state": {
       "_model_module": "@jupyter-widgets/controls",
       "_model_module_version": "1.5.0",
       "_model_name": "DescriptionStyleModel",
       "_view_count": null,
       "_view_module": "@jupyter-widgets/base",
       "_view_module_version": "1.2.0",
       "_view_name": "StyleView",
       "description_width": ""
      }
     },
     "8229fb98c33c4d77804af9bfc3ea7796": {
      "model_module": "@jupyter-widgets/controls",
      "model_module_version": "1.5.0",
      "model_name": "FloatProgressModel",
      "state": {
       "_dom_classes": [],
       "_model_module": "@jupyter-widgets/controls",
       "_model_module_version": "1.5.0",
       "_model_name": "FloatProgressModel",
       "_view_count": null,
       "_view_module": "@jupyter-widgets/controls",
       "_view_module_version": "1.5.0",
       "_view_name": "ProgressView",
       "bar_style": "success",
       "description": "100%",
       "description_tooltip": null,
       "layout": "IPY_MODEL_427dee15883e41609c9f094eb4a0d319",
       "max": 888.0,
       "min": 0.0,
       "orientation": "horizontal",
       "style": "IPY_MODEL_b81e7dc6ae304949aaa351a275f5af9b",
       "value": 888.0
      }
     },
     "8e13064d34534e92a680206fa928f7dd": {
      "model_module": "@jupyter-widgets/base",
      "model_module_version": "1.2.0",
      "model_name": "LayoutModel",
      "state": {
       "_model_module": "@jupyter-widgets/base",
       "_model_module_version": "1.2.0",
       "_model_name": "LayoutModel",
       "_view_count": null,
       "_view_module": "@jupyter-widgets/base",
       "_view_module_version": "1.2.0",
       "_view_name": "LayoutView",
       "align_content": null,
       "align_items": null,
       "align_self": null,
       "border": null,
       "bottom": null,
       "display": null,
       "flex": null,
       "flex_flow": null,
       "grid_area": null,
       "grid_auto_columns": null,
       "grid_auto_flow": null,
       "grid_auto_rows": null,
       "grid_column": null,
       "grid_gap": null,
       "grid_row": null,
       "grid_template_areas": null,
       "grid_template_columns": null,
       "grid_template_rows": null,
       "height": null,
       "justify_content": null,
       "justify_items": null,
       "left": null,
       "margin": null,
       "max_height": null,
       "max_width": null,
       "min_height": null,
       "min_width": null,
       "object_fit": null,
       "object_position": null,
       "order": null,
       "overflow": null,
       "overflow_x": null,
       "overflow_y": null,
       "padding": null,
       "right": null,
       "top": null,
       "visibility": null,
       "width": null
      }
     },
     "b1d58f306d6940548a4306588206f919": {
      "model_module": "@jupyter-widgets/base",
      "model_module_version": "1.2.0",
      "model_name": "LayoutModel",
      "state": {
       "_model_module": "@jupyter-widgets/base",
       "_model_module_version": "1.2.0",
       "_model_name": "LayoutModel",
       "_view_count": null,
       "_view_module": "@jupyter-widgets/base",
       "_view_module_version": "1.2.0",
       "_view_name": "LayoutView",
       "align_content": null,
       "align_items": null,
       "align_self": null,
       "border": null,
       "bottom": null,
       "display": null,
       "flex": null,
       "flex_flow": null,
       "grid_area": null,
       "grid_auto_columns": null,
       "grid_auto_flow": null,
       "grid_auto_rows": null,
       "grid_column": null,
       "grid_gap": null,
       "grid_row": null,
       "grid_template_areas": null,
       "grid_template_columns": null,
       "grid_template_rows": null,
       "height": null,
       "justify_content": null,
       "justify_items": null,
       "left": null,
       "margin": null,
       "max_height": null,
       "max_width": null,
       "min_height": null,
       "min_width": null,
       "object_fit": null,
       "object_position": null,
       "order": null,
       "overflow": null,
       "overflow_x": null,
       "overflow_y": null,
       "padding": null,
       "right": null,
       "top": null,
       "visibility": null,
       "width": null
      }
     },
     "b34f4486d15749bb9dca7a5fe891d061": {
      "model_module": "@jupyter-widgets/controls",
      "model_module_version": "1.5.0",
      "model_name": "HBoxModel",
      "state": {
       "_dom_classes": [],
       "_model_module": "@jupyter-widgets/controls",
       "_model_module_version": "1.5.0",
       "_model_name": "HBoxModel",
       "_view_count": null,
       "_view_module": "@jupyter-widgets/controls",
       "_view_module_version": "1.5.0",
       "_view_name": "HBoxView",
       "box_style": "",
       "children": [
        "IPY_MODEL_d8e519de182d4968baa95a74c5a4b6d7",
        "IPY_MODEL_34ee0496aa2e4d0cbb1a45864873f911"
       ],
       "layout": "IPY_MODEL_d79023abb0334543b8d04b33f2051691"
      }
     },
     "b81e7dc6ae304949aaa351a275f5af9b": {
      "model_module": "@jupyter-widgets/controls",
      "model_module_version": "1.5.0",
      "model_name": "ProgressStyleModel",
      "state": {
       "_model_module": "@jupyter-widgets/controls",
       "_model_module_version": "1.5.0",
       "_model_name": "ProgressStyleModel",
       "_view_count": null,
       "_view_module": "@jupyter-widgets/base",
       "_view_module_version": "1.2.0",
       "_view_name": "StyleView",
       "bar_color": null,
       "description_width": "initial"
      }
     },
     "b850f9d8d5484c4082c8f629582e80ee": {
      "model_module": "@jupyter-widgets/base",
      "model_module_version": "1.2.0",
      "model_name": "LayoutModel",
      "state": {
       "_model_module": "@jupyter-widgets/base",
       "_model_module_version": "1.2.0",
       "_model_name": "LayoutModel",
       "_view_count": null,
       "_view_module": "@jupyter-widgets/base",
       "_view_module_version": "1.2.0",
       "_view_name": "LayoutView",
       "align_content": null,
       "align_items": null,
       "align_self": null,
       "border": null,
       "bottom": null,
       "display": null,
       "flex": null,
       "flex_flow": null,
       "grid_area": null,
       "grid_auto_columns": null,
       "grid_auto_flow": null,
       "grid_auto_rows": null,
       "grid_column": null,
       "grid_gap": null,
       "grid_row": null,
       "grid_template_areas": null,
       "grid_template_columns": null,
       "grid_template_rows": null,
       "height": null,
       "justify_content": null,
       "justify_items": null,
       "left": null,
       "margin": null,
       "max_height": null,
       "max_width": null,
       "min_height": null,
       "min_width": null,
       "object_fit": null,
       "object_position": null,
       "order": null,
       "overflow": null,
       "overflow_x": null,
       "overflow_y": null,
       "padding": null,
       "right": null,
       "top": null,
       "visibility": null,
       "width": null
      }
     },
     "ba448dd41a3b4fa2be282f9a43f92f01": {
      "model_module": "@jupyter-widgets/base",
      "model_module_version": "1.2.0",
      "model_name": "LayoutModel",
      "state": {
       "_model_module": "@jupyter-widgets/base",
       "_model_module_version": "1.2.0",
       "_model_name": "LayoutModel",
       "_view_count": null,
       "_view_module": "@jupyter-widgets/base",
       "_view_module_version": "1.2.0",
       "_view_name": "LayoutView",
       "align_content": null,
       "align_items": null,
       "align_self": null,
       "border": null,
       "bottom": null,
       "display": null,
       "flex": null,
       "flex_flow": null,
       "grid_area": null,
       "grid_auto_columns": null,
       "grid_auto_flow": null,
       "grid_auto_rows": null,
       "grid_column": null,
       "grid_gap": null,
       "grid_row": null,
       "grid_template_areas": null,
       "grid_template_columns": null,
       "grid_template_rows": null,
       "height": null,
       "justify_content": null,
       "justify_items": null,
       "left": null,
       "margin": null,
       "max_height": null,
       "max_width": null,
       "min_height": null,
       "min_width": null,
       "object_fit": null,
       "object_position": null,
       "order": null,
       "overflow": null,
       "overflow_x": null,
       "overflow_y": null,
       "padding": null,
       "right": null,
       "top": null,
       "visibility": null,
       "width": null
      }
     },
     "c7946ab58a5345738f921185a6345ada": {
      "model_module": "@jupyter-widgets/base",
      "model_module_version": "1.2.0",
      "model_name": "LayoutModel",
      "state": {
       "_model_module": "@jupyter-widgets/base",
       "_model_module_version": "1.2.0",
       "_model_name": "LayoutModel",
       "_view_count": null,
       "_view_module": "@jupyter-widgets/base",
       "_view_module_version": "1.2.0",
       "_view_name": "LayoutView",
       "align_content": null,
       "align_items": null,
       "align_self": null,
       "border": null,
       "bottom": null,
       "display": null,
       "flex": null,
       "flex_flow": null,
       "grid_area": null,
       "grid_auto_columns": null,
       "grid_auto_flow": null,
       "grid_auto_rows": null,
       "grid_column": null,
       "grid_gap": null,
       "grid_row": null,
       "grid_template_areas": null,
       "grid_template_columns": null,
       "grid_template_rows": null,
       "height": null,
       "justify_content": null,
       "justify_items": null,
       "left": null,
       "margin": null,
       "max_height": null,
       "max_width": null,
       "min_height": null,
       "min_width": null,
       "object_fit": null,
       "object_position": null,
       "order": null,
       "overflow": null,
       "overflow_x": null,
       "overflow_y": null,
       "padding": null,
       "right": null,
       "top": null,
       "visibility": null,
       "width": null
      }
     },
     "cd30976d367e4b968d50e3c91b04363e": {
      "model_module": "@jupyter-widgets/controls",
      "model_module_version": "1.5.0",
      "model_name": "HBoxModel",
      "state": {
       "_dom_classes": [],
       "_model_module": "@jupyter-widgets/controls",
       "_model_module_version": "1.5.0",
       "_model_name": "HBoxModel",
       "_view_count": null,
       "_view_module": "@jupyter-widgets/controls",
       "_view_module_version": "1.5.0",
       "_view_name": "HBoxView",
       "box_style": "",
       "children": [
        "IPY_MODEL_8229fb98c33c4d77804af9bfc3ea7796",
        "IPY_MODEL_4478b00f84b74376987081c71af859ee"
       ],
       "layout": "IPY_MODEL_ba448dd41a3b4fa2be282f9a43f92f01"
      }
     },
     "cf8207b5928d46598ef62921effa850b": {
      "model_module": "@jupyter-widgets/controls",
      "model_module_version": "1.5.0",
      "model_name": "ProgressStyleModel",
      "state": {
       "_model_module": "@jupyter-widgets/controls",
       "_model_module_version": "1.5.0",
       "_model_name": "ProgressStyleModel",
       "_view_count": null,
       "_view_module": "@jupyter-widgets/base",
       "_view_module_version": "1.2.0",
       "_view_name": "StyleView",
       "bar_color": null,
       "description_width": "initial"
      }
     },
     "d79023abb0334543b8d04b33f2051691": {
      "model_module": "@jupyter-widgets/base",
      "model_module_version": "1.2.0",
      "model_name": "LayoutModel",
      "state": {
       "_model_module": "@jupyter-widgets/base",
       "_model_module_version": "1.2.0",
       "_model_name": "LayoutModel",
       "_view_count": null,
       "_view_module": "@jupyter-widgets/base",
       "_view_module_version": "1.2.0",
       "_view_name": "LayoutView",
       "align_content": null,
       "align_items": null,
       "align_self": null,
       "border": null,
       "bottom": null,
       "display": null,
       "flex": null,
       "flex_flow": null,
       "grid_area": null,
       "grid_auto_columns": null,
       "grid_auto_flow": null,
       "grid_auto_rows": null,
       "grid_column": null,
       "grid_gap": null,
       "grid_row": null,
       "grid_template_areas": null,
       "grid_template_columns": null,
       "grid_template_rows": null,
       "height": null,
       "justify_content": null,
       "justify_items": null,
       "left": null,
       "margin": null,
       "max_height": null,
       "max_width": null,
       "min_height": null,
       "min_width": null,
       "object_fit": null,
       "object_position": null,
       "order": null,
       "overflow": null,
       "overflow_x": null,
       "overflow_y": null,
       "padding": null,
       "right": null,
       "top": null,
       "visibility": null,
       "width": null
      }
     },
     "d8e519de182d4968baa95a74c5a4b6d7": {
      "model_module": "@jupyter-widgets/controls",
      "model_module_version": "1.5.0",
      "model_name": "FloatProgressModel",
      "state": {
       "_dom_classes": [],
       "_model_module": "@jupyter-widgets/controls",
       "_model_module_version": "1.5.0",
       "_model_name": "FloatProgressModel",
       "_view_count": null,
       "_view_module": "@jupyter-widgets/controls",
       "_view_module_version": "1.5.0",
       "_view_name": "ProgressView",
       "bar_style": "success",
       "description": "Downloading: 100%",
       "description_tooltip": null,
       "layout": "IPY_MODEL_60b031a5c95e445daa113642c6bad91f",
       "max": 618.0,
       "min": 0.0,
       "orientation": "horizontal",
       "style": "IPY_MODEL_cf8207b5928d46598ef62921effa850b",
       "value": 618.0
      }
     },
     "de41aeeba40f40259d097ef1dfa00194": {
      "model_module": "@jupyter-widgets/base",
      "model_module_version": "1.2.0",
      "model_name": "LayoutModel",
      "state": {
       "_model_module": "@jupyter-widgets/base",
       "_model_module_version": "1.2.0",
       "_model_name": "LayoutModel",
       "_view_count": null,
       "_view_module": "@jupyter-widgets/base",
       "_view_module_version": "1.2.0",
       "_view_name": "LayoutView",
       "align_content": null,
       "align_items": null,
       "align_self": null,
       "border": null,
       "bottom": null,
       "display": null,
       "flex": null,
       "flex_flow": null,
       "grid_area": null,
       "grid_auto_columns": null,
       "grid_auto_flow": null,
       "grid_auto_rows": null,
       "grid_column": null,
       "grid_gap": null,
       "grid_row": null,
       "grid_template_areas": null,
       "grid_template_columns": null,
       "grid_template_rows": null,
       "height": null,
       "justify_content": null,
       "justify_items": null,
       "left": null,
       "margin": null,
       "max_height": null,
       "max_width": null,
       "min_height": null,
       "min_width": null,
       "object_fit": null,
       "object_position": null,
       "order": null,
       "overflow": null,
       "overflow_x": null,
       "overflow_y": null,
       "padding": null,
       "right": null,
       "top": null,
       "visibility": null,
       "width": null
      }
     },
     "fb0fc09254054a2289af530b7a79df4f": {
      "model_module": "@jupyter-widgets/controls",
      "model_module_version": "1.5.0",
      "model_name": "FloatProgressModel",
      "state": {
       "_dom_classes": [],
       "_model_module": "@jupyter-widgets/controls",
       "_model_module_version": "1.5.0",
       "_model_name": "FloatProgressModel",
       "_view_count": null,
       "_view_module": "@jupyter-widgets/controls",
       "_view_module_version": "1.5.0",
       "_view_name": "ProgressView",
       "bar_style": "success",
       "description": "100%",
       "description_tooltip": null,
       "layout": "IPY_MODEL_7a3d9c692935458bb1c216e644b3641a",
       "max": 888.0,
       "min": 0.0,
       "orientation": "horizontal",
       "style": "IPY_MODEL_7b0cf14ae4254e2ab9cdb9d1bc7a9c53",
       "value": 888.0
      }
     }
    },
    "version_major": 2,
    "version_minor": 0
   }
  }
 },
 "nbformat": 4,
 "nbformat_minor": 4
}
